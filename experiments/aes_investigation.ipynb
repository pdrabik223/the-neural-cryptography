{
 "cells": [
  {
   "cell_type": "code",
   "execution_count": 1,
   "id": "48a00cd6",
   "metadata": {},
   "outputs": [],
   "source": [
    "import base64\n",
    "import hashlib\n",
    "from Crypto.Cipher import AES\n",
    "from Crypto import Random\n",
    "import matplotlib.pyplot as plt\n",
    "import numpy as np"
   ]
  },
  {
   "cell_type": "code",
   "execution_count": 2,
   "id": "0493f2c2",
   "metadata": {},
   "outputs": [],
   "source": [
    "BLOCK_SIZE = AES.block_size"
   ]
  },
  {
   "cell_type": "code",
   "execution_count": 3,
   "id": "ca39707f",
   "metadata": {},
   "outputs": [],
   "source": [
    "def pad(s: str) -> str:\n",
    "    '''\n",
    "    Padds the bytestring to given block size\n",
    "    '''\n",
    "    return s + (BLOCK_SIZE - len(s) % BLOCK_SIZE) * chr(BLOCK_SIZE - len(s) % BLOCK_SIZE)\n",
    "\n",
    "def unpad(s: str) -> str:\n",
    "    '''\n",
    "    Removes the padding from the str\n",
    "    '''\n",
    "    return s[:-ord(s[len(s) - 1:])]\n",
    "\n",
    "def sha256(s: str) -> bytes:\n",
    "    return hashlib.sha256(s.encode('utf-8')).digest() # digest?"
   ]
  },
  {
   "cell_type": "code",
   "execution_count": 4,
   "id": "8ac52e61",
   "metadata": {},
   "outputs": [
    {
     "data": {
      "text/plain": [
       "('Hello world', 'Hello world\\x05\\x05\\x05\\x05\\x05')"
      ]
     },
     "execution_count": 4,
     "metadata": {},
     "output_type": "execute_result"
    }
   ],
   "source": [
    "text = 'Hello world'\n",
    "padded = pad(text)\n",
    "assert text == unpad(padded)\n",
    "text, padded"
   ]
  },
  {
   "cell_type": "code",
   "execution_count": 5,
   "id": "190275e8",
   "metadata": {},
   "outputs": [],
   "source": [
    "def encrypt(plain_text: str, key: str) -> bytes:\n",
    "    private_key = sha256(key) \n",
    "    \n",
    "    plain_text = pad(plain_text).encode('utf-8')\n",
    "    \n",
    "    # XXX: Block size needs to be 16 bytes\n",
    "    iv = Random.new().read(AES.block_size) # iv?\n",
    "\n",
    "    # XXX: Private key can be only 16, 128 or 256 bytes\n",
    "    cipher = AES.new(private_key, AES.MODE_CBC, iv)\n",
    "    \n",
    "    # Base64 encode to avoid problems with printing\n",
    "    return base64.b64encode(iv + cipher.encrypt(plain_text))\n",
    "\n",
    "def decrypt(cipher_text: bytes, key: str) -> bytes:\n",
    "    # \n",
    "    private_key = sha256(key)\n",
    "    cipher_text = base64.b64decode(cipher_text)\n",
    "    \n",
    "    # First block contains the seed\n",
    "    iv = cipher_text[:BLOCK_SIZE]\n",
    "    cipher = AES.new(private_key, AES.MODE_CBC, iv)\n",
    "    return unpad(cipher.decrypt(cipher_text[BLOCK_SIZE:]))"
   ]
  },
  {
   "cell_type": "code",
   "execution_count": 6,
   "id": "1e48b913",
   "metadata": {},
   "outputs": [
    {
     "data": {
      "text/plain": [
       "(b'YSobSw058fC/IHby9klGEz13oHQAKpa4ZcNS7rUZ9YY=', b'Hello world')"
      ]
     },
     "execution_count": 6,
     "metadata": {},
     "output_type": "execute_result"
    }
   ],
   "source": [
    "msg, pssd = 'Hello world', 'pssd'\n",
    "encrypted = encrypt(msg, pssd)\n",
    "decrypted = decrypt(encrypted, pssd)\n",
    "assert msg == decrypted.decode('utf-8'), 'Decrypted and encrypted text is not the same'\n",
    "encrypted, decrypted"
   ]
  },
  {
   "cell_type": "code",
   "execution_count": 7,
   "id": "60ae2a43",
   "metadata": {},
   "outputs": [
    {
     "data": {
      "text/plain": [
       "b'\\xf6IF\\x13=w\\xa0t\\x00*\\x96\\xb8e\\xc3R\\xee\\xb5\\x19\\xf5\\x86'"
      ]
     },
     "execution_count": 7,
     "metadata": {},
     "output_type": "execute_result"
    }
   ],
   "source": [
    "mbytes = base64.b64decode(encrypted[BLOCK_SIZE:])\n",
    "mbytes"
   ]
  },
  {
   "cell_type": "code",
   "execution_count": 8,
   "id": "d9347946",
   "metadata": {},
   "outputs": [
    {
     "data": {
      "text/plain": [
       "array([246,  73,  70,  19,  61, 119, 160, 116,   0,  42, 150, 184, 101,\n",
       "       195,  82, 238, 181,  25, 245, 134], dtype=uint8)"
      ]
     },
     "execution_count": 8,
     "metadata": {},
     "output_type": "execute_result"
    }
   ],
   "source": [
    "ar = np.frombuffer(mbytes, dtype=np.uint8)\n",
    "ar"
   ]
  },
  {
   "cell_type": "code",
   "execution_count": 9,
   "id": "8e310f87",
   "metadata": {},
   "outputs": [
    {
     "data": {
      "text/plain": [
       "<BarContainer object of 256 artists>"
      ]
     },
     "execution_count": 9,
     "metadata": {},
     "output_type": "execute_result"
    },
    {
     "data": {
      "image/png": "[encoded data removed]",
      "text/plain": [
       "<Figure size 432x288 with 1 Axes>"
      ]
     },
     "metadata": {
      "needs_background": "light"
     },
     "output_type": "display_data"
    }
   ],
   "source": [
    "plt.hist(ar, bins=256)[-1]"
   ]
  },
  {
   "cell_type": "code",
   "execution_count": 10,
   "id": "3fab289c",
   "metadata": {},
   "outputs": [
    {
     "data": {
      "text/plain": [
       "<BarContainer object of 256 artists>"
      ]
     },
     "execution_count": 10,
     "metadata": {},
     "output_type": "execute_result"
    },
    {
     "data": {
      "image/png": "[encoded data removed]",
      "text/plain": [
       "<Figure size 432x288 with 1 Axes>"
      ]
     },
     "metadata": {
      "needs_background": "light"
     },
     "output_type": "display_data"
    }
   ],
   "source": [
    "plt.hist(np.random.randint(low=0, high=256, size=len(mbytes)), bins=256)[-1]"
   ]
  },
  {
   "cell_type": "code",
   "execution_count": null,
   "id": "1f4fcdce",
   "metadata": {},
   "outputs": [],
   "source": []
  }
 ],
 "metadata": {
  "kernelspec": {
   "display_name": "Python 3 (ipykernel)",
   "language": "python",
   "name": "python3"
  },
  "language_info": {
   "codemirror_mode": {
    "name": "ipython",
    "version": 3
   },
   "file_extension": ".py",
   "mimetype": "text/x-python",
   "name": "python",
   "nbconvert_exporter": "python",
   "pygments_lexer": "ipython3",
   "version": "3.10.4"
  }
 },
 "nbformat": 4,
 "nbformat_minor": 5
}
