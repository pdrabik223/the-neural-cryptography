{
 "cells": [
  {
   "cell_type": "code",
   "execution_count": 1,
   "id": "1669957d",
   "metadata": {},
   "outputs": [],
   "source": [
    "import base64\n",
    "import hashlib\n",
    "from Crypto.Cipher import AES\n",
    "from Crypto import Random\n",
    "import matplotlib.pyplot as plt\n",
    "import numpy as np"
   ]
  },
  {
   "cell_type": "code",
   "execution_count": 2,
   "id": "74fc8b0a",
   "metadata": {},
   "outputs": [],
   "source": [
    "BLOCK_SIZE = AES.block_size"
   ]
  },
  {
   "cell_type": "code",
   "execution_count": 3,
   "id": "54572279",
   "metadata": {},
   "outputs": [],
   "source": [
    "def pad(s: str) -> str:\n",
    "    '''\n",
    "    Padds the str to given block size\n",
    "    '''\n",
    "    return s + (BLOCK_SIZE - len(s) % BLOCK_SIZE) * chr(BLOCK_SIZE - len(s) % BLOCK_SIZE)\n",
    "\n",
    "def unpad(s: str) -> str:\n",
    "    '''\n",
    "    Removes the padding from the str\n",
    "    '''\n",
    "    return s[:-ord(s[len(s) - 1:])]\n",
    "\n",
    "def sha256(s: str) -> bytes:\n",
    "    return hashlib.sha256(s.encode('utf-8')).digest() # digest?"
   ]
  },
  {
   "cell_type": "code",
   "execution_count": 4,
   "id": "2c51831e",
   "metadata": {},
   "outputs": [
    {
     "data": {
      "text/plain": [
       "('Hello world', 'Hello world\\x05\\x05\\x05\\x05\\x05')"
      ]
     },
     "execution_count": 4,
     "metadata": {},
     "output_type": "execute_result"
    }
   ],
   "source": [
    "text = 'Hello world'\n",
    "padded = pad(text)\n",
    "assert text == unpad(padded)\n",
    "text, padded"
   ]
  },
  {
   "cell_type": "code",
   "execution_count": 5,
   "id": "da4e5103",
   "metadata": {},
   "outputs": [],
   "source": [
    "def encrypt(plain_text: str, key: str) -> bytes:\n",
    "    private_key = sha256(key) \n",
    "    \n",
    "    plain_text = pad(plain_text).encode('utf-8')\n",
    "    \n",
    "    # XXX: Block size needs to be 16 bytes\n",
    "    iv = Random.new().read(AES.block_size) # iv - Input vector\n",
    "\n",
    "    # XXX: Private key can be only 16, 128 or 256 bytes\n",
    "    cipher = AES.new(private_key, AES.MODE_CBC, iv)\n",
    "    \n",
    "    # Base64 encode to avoid problems with printing\n",
    "    return base64.b64encode(iv + cipher.encrypt(plain_text))\n",
    "\n",
    "def decrypt(cipher_text: bytes, key: str) -> bytes:\n",
    "    # \n",
    "    private_key = sha256(key)\n",
    "    cipher_text = base64.b64decode(cipher_text)\n",
    "    \n",
    "    # First block contains the seed\n",
    "    iv = cipher_text[:BLOCK_SIZE]\n",
    "    cipher = AES.new(private_key, AES.MODE_CBC, iv)\n",
    "    return unpad(cipher.decrypt(cipher_text[BLOCK_SIZE:]))"
   ]
  },
  {
   "cell_type": "code",
   "execution_count": 6,
   "id": "d367dee3",
   "metadata": {},
   "outputs": [
    {
     "data": {
      "text/plain": [
       "(b'XyKEH2UZ0GL4p61OlogGep6EQepn2iq1ubZF959F3mc=', b'Hello world')"
      ]
     },
     "execution_count": 6,
     "metadata": {},
     "output_type": "execute_result"
    }
   ],
   "source": [
    "msg, pssd = 'Hello world', 'pssd'\n",
    "encrypted = encrypt(msg, pssd)\n",
    "decrypted = decrypt(encrypted, pssd)\n",
    "assert msg == decrypted.decode('utf-8'), 'Decrypted and encrypted text is not the same'\n",
    "encrypted, decrypted"
   ]
  },
  {
   "cell_type": "code",
   "execution_count": 7,
   "id": "4bc8f776",
   "metadata": {},
   "outputs": [
    {
     "data": {
      "text/plain": [
       "b'\\x96\\x88\\x06z\\x9e\\x84A\\xeag\\xda*\\xb5\\xb9\\xb6E\\xf7\\x9fE\\xdeg'"
      ]
     },
     "execution_count": 7,
     "metadata": {},
     "output_type": "execute_result"
    }
   ],
   "source": [
    "mbytes = base64.b64decode(encrypted[BLOCK_SIZE:])\n",
    "mbytes"
   ]
  },
  {
   "cell_type": "code",
   "execution_count": 8,
   "id": "6eeacb95",
   "metadata": {},
   "outputs": [
    {
     "data": {
      "text/plain": [
       "array([150, 136,   6, 122, 158, 132,  65, 234, 103, 218,  42, 181, 185,\n",
       "       182,  69, 247, 159,  69, 222, 103], dtype=uint8)"
      ]
     },
     "execution_count": 8,
     "metadata": {},
     "output_type": "execute_result"
    }
   ],
   "source": [
    "ar = np.frombuffer(mbytes, dtype=np.uint8)\n",
    "ar"
   ]
  },
  {
   "cell_type": "code",
   "execution_count": 9,
   "id": "19a43397",
   "metadata": {},
   "outputs": [
    {
     "data": {
      "text/plain": [
       "<BarContainer object of 256 artists>"
      ]
     },
     "execution_count": 9,
     "metadata": {},
     "output_type": "execute_result"
    },
    {
     "data": {
      "image/png": "[encoded data removed]",
      "text/plain": [
       "<Figure size 432x288 with 1 Axes>"
      ]
     },
     "metadata": {
      "needs_background": "light"
     },
     "output_type": "display_data"
    }
   ],
   "source": [
    "plt.hist(ar, bins=256)[-1]"
   ]
  },
  {
   "cell_type": "code",
   "execution_count": 10,
   "id": "8cf2c214",
   "metadata": {},
   "outputs": [
    {
     "data": {
      "text/plain": [
       "<BarContainer object of 256 artists>"
      ]
     },
     "execution_count": 10,
     "metadata": {},
     "output_type": "execute_result"
    },
    {
     "data": {
      "image/png": "[encoded data removed]",
      "text/plain": [
       "<Figure size 432x288 with 1 Axes>"
      ]
     },
     "metadata": {
      "needs_background": "light"
     },
     "output_type": "display_data"
    }
   ],
   "source": [
    "plt.hist(np.random.randint(low=0, high=256, size=len(mbytes)), bins=256)[-1]"
   ]
  },
  {
   "cell_type": "code",
   "execution_count": 11,
   "id": "e9b27d8e",
   "metadata": {},
   "outputs": [],
   "source": [
    "from Crypto.Cipher import DES"
   ]
  },
  {
   "cell_type": "code",
   "execution_count": 12,
   "id": "699d5d76",
   "metadata": {},
   "outputs": [],
   "source": [
    "def encrypt_des(string, key):\n",
    "    assert len(key) == 8, 'Key needs to be 8 bytes long'\n",
    "    string = string.encode('utf-8')\n",
    "    key = key.encode('utf-8')\n",
    "    cipher = DES.new(key, DES.MODE_OFB)\n",
    "    encrypted = cipher.iv + cipher.encrypt(string)\n",
    "    return encrypted\n",
    "\n",
    "def decrypt_des(string, key):\n",
    "    iv = string[:8]\n",
    "    cipher = DES.new(key.encode('utf-8'), DES.MODE_OFB, iv)\n",
    "    decrypted = cipher.decrypt(string[8:])\n",
    "    return decrypted"
   ]
  },
  {
   "cell_type": "code",
   "execution_count": 13,
   "id": "a32081b4",
   "metadata": {},
   "outputs": [
    {
     "data": {
      "text/plain": [
       "(b',Y\\x8d\\xdb\\x10', b'Hello')"
      ]
     },
     "execution_count": 13,
     "metadata": {},
     "output_type": "execute_result"
    }
   ],
   "source": [
    "key = '12345678'\n",
    "text = 'Hello'\n",
    "e = encrypt_des(text, key)\n",
    "d = decrypt_des(e, key)\n",
    "assert text == d.decode('utf-8'), 'Encrypted and decrypted text is not the same'\n",
    "e[8:], d"
   ]
  },
  {
   "cell_type": "code",
   "execution_count": 14,
   "id": "e9f101db",
   "metadata": {},
   "outputs": [
    {
     "data": {
      "text/plain": [
       "(b'\\xa6', 1)"
      ]
     },
     "execution_count": 14,
     "metadata": {},
     "output_type": "execute_result"
    }
   ],
   "source": [
    "r = encrypt_des('a', '12345678')[8:]\n",
    "r, len(r)"
   ]
  },
  {
   "cell_type": "code",
   "execution_count": 15,
   "id": "b954794b",
   "metadata": {},
   "outputs": [
    {
     "data": {
      "text/plain": [
       "(b'b9vrAWw9K+cUuk/OQkKmADTBMeGqZlIffvYCsgegbCA=', 28)"
      ]
     },
     "execution_count": 15,
     "metadata": {},
     "output_type": "execute_result"
    }
   ],
   "source": [
    "r = encrypt('a', 'a')\n",
    "r, len(r[BLOCK_SIZE:])"
   ]
  },
  {
   "cell_type": "code",
   "execution_count": 16,
   "id": "fd243a0d",
   "metadata": {},
   "outputs": [
    {
     "data": {
      "text/plain": [
       "15"
      ]
     },
     "execution_count": 16,
     "metadata": {},
     "output_type": "execute_result"
    }
   ],
   "source": [
    "len('aaaaaaaaaaaaaaa')"
   ]
  },
  {
   "cell_type": "code",
   "execution_count": null,
   "id": "32b83d95",
   "metadata": {},
   "outputs": [],
   "source": []
  }
 ],
 "metadata": {
  "kernelspec": {
   "display_name": "Python 3 (ipykernel)",
   "language": "python",
   "name": "python3"
  },
  "language_info": {
   "codemirror_mode": {
    "name": "ipython",
    "version": 3
   },
   "file_extension": ".py",
   "mimetype": "text/x-python",
   "name": "python",
   "nbconvert_exporter": "python",
   "pygments_lexer": "ipython3",
   "version": "3.10.4"
  }
 },
 "nbformat": 4,
 "nbformat_minor": 5
}
