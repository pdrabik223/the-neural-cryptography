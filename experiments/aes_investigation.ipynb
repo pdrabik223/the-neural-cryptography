{
 "cells": [
  {
   "cell_type": "code",
   "execution_count": 1,
   "id": "8ffb1ed6",
   "metadata": {},
   "outputs": [],
   "source": [
    "import base64\n",
    "import hashlib\n",
    "from Crypto.Cipher import AES\n",
    "from Crypto import Random\n",
    "import matplotlib.pyplot as plt\n",
    "import numpy as np"
   ]
  },
  {
   "cell_type": "code",
   "execution_count": 2,
   "id": "bdc93a28",
   "metadata": {},
   "outputs": [],
   "source": [
    "BLOCK_SIZE = AES.block_size"
   ]
  },
  {
   "cell_type": "code",
   "execution_count": 3,
   "id": "ada028bd",
   "metadata": {},
   "outputs": [],
   "source": [
    "def pad(s: str) -> str:\n",
    "    '''\n",
    "    Padds the bytestring to given block size\n",
    "    '''\n",
    "    return s + (BLOCK_SIZE - len(s) % BLOCK_SIZE) * chr(BLOCK_SIZE - len(s) % BLOCK_SIZE)\n",
    "\n",
    "def unpad(s: str) -> str:\n",
    "    '''\n",
    "    Removes the padding from the str\n",
    "    '''\n",
    "    return s[:-ord(s[len(s) - 1:])]\n",
    "\n",
    "def sha256(s: str) -> bytes:\n",
    "    return hashlib.sha256(s.encode('utf-8')).digest() # digest?"
   ]
  },
  {
   "cell_type": "code",
   "execution_count": 4,
   "id": "e31c52ec",
   "metadata": {},
   "outputs": [
    {
     "data": {
      "text/plain": [
       "('Hello world', 'Hello world\\x05\\x05\\x05\\x05\\x05')"
      ]
     },
     "execution_count": 4,
     "metadata": {},
     "output_type": "execute_result"
    }
   ],
   "source": [
    "text = 'Hello world'\n",
    "padded = pad(text)\n",
    "assert text == unpad(padded)\n",
    "text, padded"
   ]
  },
  {
   "cell_type": "code",
   "execution_count": 5,
   "id": "946ed172",
   "metadata": {},
   "outputs": [],
   "source": [
    "def encrypt(plain_text: str, key: str) -> bytes:\n",
    "    private_key = sha256(key) \n",
    "    \n",
    "    plain_text = pad(plain_text).encode('utf-8')\n",
    "    \n",
    "    # XXX: Block size needs to be 16 bytes\n",
    "    iv = Random.new().read(AES.block_size) # iv?\n",
    "\n",
    "    # XXX: Private key can be only 16, 128 or 256 bytes\n",
    "    cipher = AES.new(private_key, AES.MODE_CBC, iv)\n",
    "    \n",
    "    # Base64 encode to avoid problems with printing\n",
    "    return base64.b64encode(iv + cipher.encrypt(plain_text))\n",
    "\n",
    "def decrypt(cipher_text: bytes, key: str) -> bytes:\n",
    "    # \n",
    "    private_key = sha256(key)\n",
    "    cipher_text = base64.b64decode(cipher_text)\n",
    "    \n",
    "    # First block contains the seed\n",
    "    iv = cipher_text[:BLOCK_SIZE]\n",
    "    cipher = AES.new(private_key, AES.MODE_CBC, iv)\n",
    "    return unpad(cipher.decrypt(cipher_text[BLOCK_SIZE:]))"
   ]
  },
  {
   "cell_type": "code",
   "execution_count": 6,
   "id": "5a3cdf12",
   "metadata": {},
   "outputs": [
    {
     "data": {
      "text/plain": [
       "(b'JmkV38GBHoLsiixkmySsUbQuA4V7FEupZ+OcmG8A8RQ=', b'Hello world')"
      ]
     },
     "execution_count": 6,
     "metadata": {},
     "output_type": "execute_result"
    }
   ],
   "source": [
    "msg, pssd = 'Hello world', 'pssd'\n",
    "encrypted = encrypt(msg, pssd)\n",
    "decrypted = decrypt(encrypted, pssd)\n",
    "assert msg == decrypted.decode('utf-8'), 'Decrypted and encrypted text is not the same'\n",
    "encrypted, decrypted"
   ]
  },
  {
   "cell_type": "code",
   "execution_count": 7,
   "id": "e8248ef5",
   "metadata": {},
   "outputs": [
    {
     "data": {
      "text/plain": [
       "b'\\x9b$\\xacQ\\xb4.\\x03\\x85{\\x14K\\xa9g\\xe3\\x9c\\x98o\\x00\\xf1\\x14'"
      ]
     },
     "execution_count": 7,
     "metadata": {},
     "output_type": "execute_result"
    }
   ],
   "source": [
    "mbytes = base64.b64decode(encrypted[BLOCK_SIZE:])\n",
    "mbytes"
   ]
  },
  {
   "cell_type": "code",
   "execution_count": 8,
   "id": "a396ae1a",
   "metadata": {},
   "outputs": [
    {
     "data": {
      "text/plain": [
       "array([155,  36, 172,  81, 180,  46,   3, 133, 123,  20,  75, 169, 103,\n",
       "       227, 156, 152, 111,   0, 241,  20], dtype=uint8)"
      ]
     },
     "execution_count": 8,
     "metadata": {},
     "output_type": "execute_result"
    }
   ],
   "source": [
    "ar = np.frombuffer(mbytes, dtype=np.uint8)\n",
    "ar"
   ]
  },
  {
   "cell_type": "code",
   "execution_count": 9,
   "id": "106687fb",
   "metadata": {},
   "outputs": [
    {
     "data": {
      "text/plain": [
       "<BarContainer object of 256 artists>"
      ]
     },
     "execution_count": 9,
     "metadata": {},
     "output_type": "execute_result"
    },
    {
     "data": {
      "image/png": "[encoded data removed]",
      "text/plain": [
       "<Figure size 432x288 with 1 Axes>"
      ]
     },
     "metadata": {
      "needs_background": "light"
     },
     "output_type": "display_data"
    }
   ],
   "source": [
    "plt.hist(ar, bins=256)[-1]"
   ]
  },
  {
   "cell_type": "code",
   "execution_count": 10,
   "id": "963a1fe7",
   "metadata": {},
   "outputs": [
    {
     "data": {
      "text/plain": [
       "<BarContainer object of 256 artists>"
      ]
     },
     "execution_count": 10,
     "metadata": {},
     "output_type": "execute_result"
    },
    {
     "data": {
      "image/png": "[encoded data removed]",
      "text/plain": [
       "<Figure size 432x288 with 1 Axes>"
      ]
     },
     "metadata": {
      "needs_background": "light"
     },
     "output_type": "display_data"
    }
   ],
   "source": [
    "plt.hist(np.random.randint(low=0, high=256, size=len(mbytes)), bins=256)[-1]"
   ]
  },
  {
   "cell_type": "code",
   "execution_count": 11,
   "id": "6c1f0649",
   "metadata": {},
   "outputs": [],
   "source": [
    "from Crypto.Cipher import DES"
   ]
  },
  {
   "cell_type": "code",
   "execution_count": 12,
   "id": "65114ff9",
   "metadata": {},
   "outputs": [],
   "source": [
    "def encrypt_des(string, key):\n",
    "    assert len(key) == 8, 'Key needs to be 8 bytes long'\n",
    "    string = string.encode('utf-8')\n",
    "    key = key.encode('utf-8')\n",
    "    cipher = DES.new(key, DES.MODE_OFB)\n",
    "    encrypted = cipher.iv + cipher.encrypt(string)\n",
    "    return encrypted\n",
    "\n",
    "def decrypt_des(string, key):\n",
    "    iv = string[:8]\n",
    "    cipher = DES.new(key.encode('utf-8'), DES.MODE_OFB, iv)\n",
    "    decrypted = cipher.decrypt(string[8:])\n",
    "    return decrypted"
   ]
  },
  {
   "cell_type": "code",
   "execution_count": 13,
   "id": "70adf675",
   "metadata": {},
   "outputs": [],
   "source": [
    "key = '12345678'\n",
    "text = 'Hello'\n",
    "e = encrypt_des(text, key)\n",
    "d = decrypt_des(e, key)\n",
    "assert text == d.decode('utf-8'), 'Encrypted and decrypted text is not the same'"
   ]
  },
  {
   "cell_type": "code",
   "execution_count": null,
   "id": "aa780401",
   "metadata": {},
   "outputs": [],
   "source": []
  }
 ],
 "metadata": {
  "kernelspec": {
   "display_name": "Python 3 (ipykernel)",
   "language": "python",
   "name": "python3"
  },
  "language_info": {
   "codemirror_mode": {
    "name": "ipython",
    "version": 3
   },
   "file_extension": ".py",
   "mimetype": "text/x-python",
   "name": "python",
   "nbconvert_exporter": "python",
   "pygments_lexer": "ipython3",
   "version": "3.10.4"
  }
 },
 "nbformat": 4,
 "nbformat_minor": 5
}
