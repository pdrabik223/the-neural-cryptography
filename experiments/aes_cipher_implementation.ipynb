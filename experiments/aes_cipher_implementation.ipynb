{
 "cells": [
  {
   "cell_type": "markdown",
   "metadata": {},
   "source": [
    "# The [AES](https://en.wikipedia.org/wiki/Advanced_Encryption_Standard) cipher\n",
    "Consist of 4 steps:\n",
    "1. Sub byte \n",
    "2. Shift Rows\n",
    "3. Mix Columns\n",
    "4. Add Round key\n",
    "All steps applied one by one, on the same data makes the AES cipher, secure. Depending on key length, multiple rounds of said transformation steps are applied on the same data block. The goal of this notebook is to implement all 4 steps independently. And than test implementation of AES algorithm against [crypto](https://pycryptodome.readthedocs.io/en/latest/src/cipher/aes.html) library."
   ]
  },
  {
   "cell_type": "code",
   "execution_count": 101,
   "metadata": {},
   "outputs": [],
   "source": [
    "import numpy as nn\n",
    "from numpy import uint8\n",
    "from typing import List\n",
    "import math\n",
    "from dataclasses import dataclass"
   ]
  },
  {
   "cell_type": "code",
   "execution_count": 102,
   "metadata": {},
   "outputs": [],
   "source": [
    "AES_SBOX = (\n",
    "            0x63, 0x7C, 0x77, 0x7B, 0xF2, 0x6B, 0x6F, 0xC5, 0x30, 0x01, 0x67, 0x2B, 0xFE, 0xD7, 0xAB, 0x76,\n",
    "            0xCA, 0x82, 0xC9, 0x7D, 0xFA, 0x59, 0x47, 0xF0, 0xAD, 0xD4, 0xA2, 0xAF, 0x9C, 0xA4, 0x72, 0xC0,\n",
    "            0xB7, 0xFD, 0x93, 0x26, 0x36, 0x3F, 0xF7, 0xCC, 0x34, 0xA5, 0xE5, 0xF1, 0x71, 0xD8, 0x31, 0x15,\n",
    "            0x04, 0xC7, 0x23, 0xC3, 0x18, 0x96, 0x05, 0x9A, 0x07, 0x12, 0x80, 0xE2, 0xEB, 0x27, 0xB2, 0x75,\n",
    "            0x09, 0x83, 0x2C, 0x1A, 0x1B, 0x6E, 0x5A, 0xA0, 0x52, 0x3B, 0xD6, 0xB3, 0x29, 0xE3, 0x2F, 0x84,\n",
    "            0x53, 0xD1, 0x00, 0xED, 0x20, 0xFC, 0xB1, 0x5B, 0x6A, 0xCB, 0xBE, 0x39, 0x4A, 0x4C, 0x58, 0xCF,\n",
    "            0xD0, 0xEF, 0xAA, 0xFB, 0x43, 0x4D, 0x33, 0x85, 0x45, 0xF9, 0x02, 0x7F, 0x50, 0x3C, 0x9F, 0xA8,\n",
    "            0x51, 0xA3, 0x40, 0x8F, 0x92, 0x9D, 0x38, 0xF5, 0xBC, 0xB6, 0xDA, 0x21, 0x10, 0xFF, 0xF3, 0xD2,\n",
    "            0xCD, 0x0C, 0x13, 0xEC, 0x5F, 0x97, 0x44, 0x17, 0xC4, 0xA7, 0x7E, 0x3D, 0x64, 0x5D, 0x19, 0x73,\n",
    "            0x60, 0x81, 0x4F, 0xDC, 0x22, 0x2A, 0x90, 0x88, 0x46, 0xEE, 0xB8, 0x14, 0xDE, 0x5E, 0x0B, 0xDB,\n",
    "            0xE0, 0x32, 0x3A, 0x0A, 0x49, 0x06, 0x24, 0x5C, 0xC2, 0xD3, 0xAC, 0x62, 0x91, 0x95, 0xE4, 0x79,\n",
    "            0xE7, 0xC8, 0x37, 0x6D, 0x8D, 0xD5, 0x4E, 0xA9, 0x6C, 0x56, 0xF4, 0xEA, 0x65, 0x7A, 0xAE, 0x08,\n",
    "            0xBA, 0x78, 0x25, 0x2E, 0x1C, 0xA6, 0xB4, 0xC6, 0xE8, 0xDD, 0x74, 0x1F, 0x4B, 0xBD, 0x8B, 0x8A,\n",
    "            0x70, 0x3E, 0xB5, 0x66, 0x48, 0x03, 0xF6, 0x0E, 0x61, 0x35, 0x57, 0xB9, 0x86, 0xC1, 0x1D, 0x9E,\n",
    "            0xE1, 0xF8, 0x98, 0x11, 0x69, 0xD9, 0x8E, 0x94, 0x9B, 0x1E, 0x87, 0xE9, 0xCE, 0x55, 0x28, 0xDF,\n",
    "            0x8C, 0xA1, 0x89, 0x0D, 0xBF, 0xE6, 0x42, 0x68, 0x41, 0x99, 0x2D, 0x0F, 0xB0, 0x54, 0xBB, 0x16\n",
    "            )\n",
    "AES_SVBOX_INV = (\n",
    "            0x52, 0x09, 0x6A, 0xD5, 0x30, 0x36, 0xA5, 0x38, 0xBF, 0x40, 0xA3, 0x9E, 0x81, 0xF3, 0xD7, 0xFB,\n",
    "            0x7C, 0xE3, 0x39, 0x82, 0x9B, 0x2F, 0xFF, 0x87, 0x34, 0x8E, 0x43, 0x44, 0xC4, 0xDE, 0xE9, 0xCB,\n",
    "            0x54, 0x7B, 0x94, 0x32, 0xA6, 0xC2, 0x23, 0x3D, 0xEE, 0x4C, 0x95, 0x0B, 0x42, 0xFA, 0xC3, 0x4E,\n",
    "            0x08, 0x2E, 0xA1, 0x66, 0x28, 0xD9, 0x24, 0xB2, 0x76, 0x5B, 0xA2, 0x49, 0x6D, 0x8B, 0xD1, 0x25,\n",
    "            0x72, 0xF8, 0xF6, 0x64, 0x86, 0x68, 0x98, 0x16, 0xD4, 0xA4, 0x5C, 0xCC, 0x5D, 0x65, 0xB6, 0x92,\n",
    "            0x6C, 0x70, 0x48, 0x50, 0xFD, 0xED, 0xB9, 0xDA, 0x5E, 0x15, 0x46, 0x57, 0xA7, 0x8D, 0x9D, 0x84,\n",
    "            0x90, 0xD8, 0xAB, 0x00, 0x8C, 0xBC, 0xD3, 0x0A, 0xF7, 0xE4, 0x58, 0x05, 0xB8, 0xB3, 0x45, 0x06,\n",
    "            0xD0, 0x2C, 0x1E, 0x8F, 0xCA, 0x3F, 0x0F, 0x02, 0xC1, 0xAF, 0xBD, 0x03, 0x01, 0x13, 0x8A, 0x6B,\n",
    "            0x3A, 0x91, 0x11, 0x41, 0x4F, 0x67, 0xDC, 0xEA, 0x97, 0xF2, 0xCF, 0xCE, 0xF0, 0xB4, 0xE6, 0x73,\n",
    "            0x96, 0xAC, 0x74, 0x22, 0xE7, 0xAD, 0x35, 0x85, 0xE2, 0xF9, 0x37, 0xE8, 0x1C, 0x75, 0xDF, 0x6E,\n",
    "            0x47, 0xF1, 0x1A, 0x71, 0x1D, 0x29, 0xC5, 0x89, 0x6F, 0xB7, 0x62, 0x0E, 0xAA, 0x18, 0xBE, 0x1B,\n",
    "            0xFC, 0x56, 0x3E, 0x4B, 0xC6, 0xD2, 0x79, 0x20, 0x9A, 0xDB, 0xC0, 0xFE, 0x78, 0xCD, 0x5A, 0xF4,\n",
    "            0x1F, 0xDD, 0xA8, 0x33, 0x88, 0x07, 0xC7, 0x31, 0xB1, 0x12, 0x10, 0x59, 0x27, 0x80, 0xEC, 0x5F,\n",
    "            0x60, 0x51, 0x7F, 0xA9, 0x19, 0xB5, 0x4A, 0x0D, 0x2D, 0xE5, 0x7A, 0x9F, 0x93, 0xC9, 0x9C, 0xEF,\n",
    "            0xA0, 0xE0, 0x3B, 0x4D, 0xAE, 0x2A, 0xF5, 0xB0, 0xC8, 0xEB, 0xBB, 0x3C, 0x83, 0x53, 0x99, 0x61,\n",
    "            0x17, 0x2B, 0x04, 0x7E, 0xBA, 0x77, 0xD6, 0x26, 0xE1, 0x69, 0x14, 0x63, 0x55, 0x21, 0x0C, 0x7D\n",
    "            )"
   ]
  },
  {
   "cell_type": "code",
   "execution_count": 103,
   "metadata": {},
   "outputs": [],
   "source": [
    "# Sub byte\n",
    "\n",
    "def sub_bytes(data_block:List[uint8])->List[uint8]:\n",
    "        \n",
    "        for i, b in enumerate(data_block):\n",
    "            data_block[i] = AES_SBOX[b]\n",
    "            \n",
    "        return data_block\n",
    "    \n",
    "def inv_sub_bytes(data_block:List[uint8])->List[uint8]:\n",
    "        for i, b in enumerate(data_block):\n",
    "            data_block[i] = AES_SVBOX_INV[b]\n",
    "        return data_block"
   ]
  },
  {
   "cell_type": "code",
   "execution_count": 104,
   "metadata": {},
   "outputs": [
    {
     "name": "stdout",
     "output_type": "stream",
     "text": [
      "[183, 9, 202, 48]\n",
      "[32, 64, 16, 8]\n"
     ]
    }
   ],
   "source": [
    "\n",
    "bytes = [uint8(32),\n",
    "         uint8(64),\n",
    "         uint8(16),\n",
    "         uint8(8)]\n",
    "print(sub_bytes(bytes.copy()))\n",
    "print(inv_sub_bytes(sub_bytes(bytes.copy())))"
   ]
  },
  {
   "cell_type": "code",
   "execution_count": 105,
   "metadata": {},
   "outputs": [],
   "source": [
    "def shift_rows(data_block:List[uint8])->List[uint8]:\n",
    "    if len(data_block) != 128:\n",
    "        print(\"provided data_block is incorrect size, using \")\n",
    "    rows = []\n",
    "    no_shifts = math.ceil(math.sqrt(len(data_block)))\n",
    "    for r in range( math.ceil(len(data_block) / no_shifts) ):\n",
    "        if r + 1< math.ceil(len(data_block) / no_shifts) :\n",
    "            rows.append(data_block[r*no_shifts : (r+1)*no_shifts])\n",
    "        else :\n",
    "            rows.append(data_block[r*no_shifts :])\n",
    "\n",
    "\n",
    "\n",
    "    data_block = []\n",
    "    for i,row in enumerate(rows):\n",
    "        if len(row) == no_shifts:\n",
    "            data_block += row[i:] + row[:i]\n",
    "        else:\n",
    "            data_block += row\n",
    "    return data_block\n",
    "\n",
    "def inv_shift_rows(data_block:List[uint8])->List[uint8]:\n",
    "    if len(data_block) != 128:\n",
    "        print(\"provided data_block is incorrect size, using \")\n",
    "    rows = []\n",
    "    no_shifts = math.ceil(math.sqrt(len(data_block)))\n",
    "    for r in range( math.ceil(len(data_block) / no_shifts) ):\n",
    "        if r + 1< math.ceil(len(data_block) / no_shifts) :\n",
    "            rows.append(data_block[r*no_shifts : (r+1)*no_shifts])\n",
    "        else :\n",
    "            rows.append(data_block[r*no_shifts :])\n",
    "\n",
    "\n",
    "\n",
    "    data_block = []\n",
    "    for i,row in enumerate(rows):\n",
    "        if len(row) == no_shifts:\n",
    "            data_block +=  row[no_shifts - i:] + row[:no_shifts - i] \n",
    "        else:\n",
    "            data_block += row\n",
    "    return data_block\n"
   ]
  },
  {
   "cell_type": "code",
   "execution_count": 106,
   "metadata": {},
   "outputs": [
    {
     "name": "stdout",
     "output_type": "stream",
     "text": [
      "3\n",
      "provided data_block is incorrect size, using \n",
      "[32, 64, 16, 5, 4, 8, 3]\n",
      "provided data_block is incorrect size, using \n",
      "provided data_block is incorrect size, using \n",
      "[32, 64, 16, 8, 5, 4, 3]\n"
     ]
    }
   ],
   "source": [
    "bytes = [uint8(32),\n",
    "         uint8(64),\n",
    "         uint8(16),\n",
    "         uint8(8),\n",
    "         uint8(5),\n",
    "         uint8(4),\n",
    "         uint8(3)]\n",
    "print(math.ceil(math.sqrt(len(bytes))))\n",
    "print(shift_rows(bytes.copy()))\n",
    "print(inv_shift_rows(shift_rows(bytes.copy())))"
   ]
  },
  {
   "cell_type": "code",
   "execution_count": 107,
   "metadata": {},
   "outputs": [],
   "source": [
    "@staticmethod\n",
    "def g_mul(a:uint8, b:uint8):\n",
    "    p = 0\n",
    "    for _ in range(8):\n",
    "        if b & 1:\n",
    "            p ^= a\n",
    "        a <<= 1\n",
    "        if a & 0x100:\n",
    "            a ^= 0x11b\n",
    "        b >>= 1\n",
    "    return p\n",
    "    \n",
    "def mix_columns(self):\n",
    "        ss = []\n",
    "        for c in range(4):\n",
    "            col = self.state[c*4:(c+1)*4]\n",
    "            ss.extend((\n",
    "                        g_mul([0x02][col[0]]) ^ g_mul([0x03][col[1]]) ^                col[2]  ^                col[3] ,\n",
    "                                       col[0]  ^ g_mul([0x02][col[1]]) ^ g_mul([0x03][col[2]]) ^                col[3] ,\n",
    "                                       col[0]  ^                col[1]  ^ g_mul([0x02][col[2]]) ^ g_mul([0x03][col[3]]),\n",
    "                        g_mul([0x03][col[0]]) ^                col[1]  ^                col[2]  ^ g_mul([0x02][col[3]]),\n",
    "                    ))\n",
    "        self.state = ss"
   ]
  },
  {
   "cell_type": "code",
   "execution_count": 108,
   "metadata": {},
   "outputs": [],
   "source": [
    "\n",
    "def add_round_key(data_block:List[uint8], key:List[uint8])->List[uint8]:\n",
    "    # if not isinstance(data_block, List[uint8]):\n",
    "    #     raise TypeError(f\"given data_block with incorrect type, expected List[uint8] got {type(data_block)} \")\n",
    "    \n",
    "    # if not isinstance(key, List[uint8]):\n",
    "    #     raise TypeError(f\"given key with incorrect type, expected List[uint8] got {type(key)} \")\n",
    "    \n",
    "    if len(key) != len(data_block):\n",
    "        raise ValueError(\"key length must mach data block length\")\n",
    "    \n",
    "    for i,k in enumerate(key):\n",
    "        data_block[i] ^= k\n",
    "    return data_block\n"
   ]
  },
  {
   "cell_type": "code",
   "execution_count": 109,
   "metadata": {},
   "outputs": [],
   "source": [
    "import torch\n",
    "import torch.nn as nn\n",
    "import torch.nn.functional as F"
   ]
  },
  {
   "cell_type": "code",
   "execution_count": 110,
   "metadata": {},
   "outputs": [],
   "source": [
    "class Net(nn.Module):\n",
    "    def __init__(self):\n",
    "        super(Net, self).__init__()\n",
    "        self.fc1=nn.Linear(8,8*4)\n",
    "        self.fc2=nn.Linear(8*4,8*4)\n",
    "        self.fc3=nn.Linear(8*4,8)\n",
    "        \n",
    "    def forward(self,x):\n",
    "        x = self.fc1(x)\n",
    "        x = F.relu(x)\n",
    "        x = self.fc2(x)\n",
    "        x = F.relu(x)\n",
    "        x = self.fc3(x)\n",
    "        output = F.sigmoid(x)\n",
    "        return output\n",
    "net = Net()\n",
    "    "
   ]
  },
  {
   "cell_type": "code",
   "execution_count": 111,
   "metadata": {},
   "outputs": [
    {
     "name": "stdout",
     "output_type": "stream",
     "text": [
      "[0.0, 1.0, 1.0, 0.0, 0.0, 0.0, 0.0, 0.0]\n"
     ]
    }
   ],
   "source": [
    "def bytes_to_float_array(data_block:List[uint8])->List[float]:\n",
    "    result : List[float] = []\n",
    "    \n",
    "    for id, byte in enumerate(data_block):\n",
    "        input = bin(byte)\n",
    "        input = input[2:]\n",
    "        input = input[::-1]\n",
    "        for _ in range(8):\n",
    "            result.append(0.0)\n",
    "\n",
    "        for i, bit in enumerate(input):\n",
    "            result[id * 8 + i] = float(bit)\n",
    "            \n",
    "    return result\n",
    "print(bytes_to_float_array({uint8(6)}))"
   ]
  },
  {
   "cell_type": "code",
   "execution_count": 112,
   "metadata": {},
   "outputs": [],
   "source": [
    "import random\n",
    "@dataclass()\n",
    "class CryptoDataset:\n",
    "    key: List[uint8] \n",
    "    size: int # no of bytes in ciphered message\n",
    "    # original_message : List[uint8]\n",
    "    # ciphered_message : List[uint8]\n",
    "    @staticmethod\n",
    "    def from_size(size:int):\n",
    "        copy_key = []\n",
    "        \n",
    "        for _ in range(size) :\n",
    "            copy_key.append(uint8(random.randint(0,255)))\n",
    "        return CryptoDataset(size=size,key = copy_key)\n",
    "        \n",
    "    def __init__(self,size:int,key:List[uint8] ):\n",
    "        self.size = size\n",
    "        self.key = key\n",
    "    \n",
    "    def next(self):\n",
    "        \n",
    "        label : List[uint8] = []\n",
    "        for _ in range(self.size) :\n",
    "            label.append(uint8(random.randint(0,255)))\n",
    "        \n",
    "         \n",
    "        input : List[uint8] = add_round_key(label,self.key) \n",
    "        return (bytes_to_float_array(input),bytes_to_float_array(label))\n",
    "        \n",
    "    "
   ]
  },
  {
   "cell_type": "code",
   "execution_count": 113,
   "metadata": {},
   "outputs": [],
   "source": [
    "def loss_function(output:List[float],label:List[float]):\n",
    "\n",
    "    same = 0\n",
    "    for o, l in zip(output,label):\n",
    "        if o == l:\n",
    "            same+=1\n",
    "        \n",
    "    return torch.tensor(1 - (same / len(input)), requires_grad=True)"
   ]
  },
  {
   "cell_type": "code",
   "execution_count": 114,
   "metadata": {},
   "outputs": [],
   "source": [
    "import torch.optim as optim\n",
    "\n",
    "criterion = nn.L1Loss()\n",
    "optimizer = optim.SGD(net.parameters(), lr=0.001, momentum=0.9)"
   ]
  },
  {
   "cell_type": "code",
   "execution_count": 120,
   "metadata": {},
   "outputs": [
    {
     "name": "stdout",
     "output_type": "stream",
     "text": [
      "[1,   100] loss: 0.024\n",
      "[2,   100] loss: 0.024\n",
      "[3,   100] loss: 0.024\n",
      "[4,   100] loss: 0.024\n",
      "[5,   100] loss: 0.024\n",
      "[6,   100] loss: 0.024\n",
      "[7,   100] loss: 0.024\n",
      "[8,   100] loss: 0.024\n",
      "[9,   100] loss: 0.024\n",
      "[10,   100] loss: 0.024\n",
      "[11,   100] loss: 0.024\n",
      "[12,   100] loss: 0.024\n",
      "[13,   100] loss: 0.024\n",
      "[14,   100] loss: 0.024\n",
      "[15,   100] loss: 0.023\n",
      "[16,   100] loss: 0.023\n",
      "[17,   100] loss: 0.023\n",
      "[18,   100] loss: 0.023\n",
      "[19,   100] loss: 0.023\n",
      "[20,   100] loss: 0.023\n",
      "[21,   100] loss: 0.023\n",
      "[22,   100] loss: 0.023\n",
      "[23,   100] loss: 0.023\n",
      "[24,   100] loss: 0.023\n",
      "[25,   100] loss: 0.023\n",
      "[26,   100] loss: 0.023\n",
      "[27,   100] loss: 0.022\n",
      "[28,   100] loss: 0.022\n",
      "[29,   100] loss: 0.023\n",
      "[30,   100] loss: 0.023\n"
     ]
    },
    {
     "data": {
      "text/plain": [
       "[<matplotlib.lines.Line2D at 0x1d509b0e8b0>]"
      ]
     },
     "execution_count": 120,
     "metadata": {},
     "output_type": "execute_result"
    },
    {
     "data": {
      "image/png": "[encoded data removed]",
      "text/plain": [
       "<Figure size 432x288 with 1 Axes>"
      ]
     },
     "metadata": {
      "needs_background": "light"
     },
     "output_type": "display_data"
    }
   ],
   "source": [
    "\n",
    "dataloader = CryptoDataset.from_size(1)\n",
    "lr = []\n",
    "for epoch in range(30):  # loop over the dataset multiple times\n",
    "    running_loss = 0.0\n",
    "    for iteration in range(100):\n",
    "        # get the inputs; data is a list of [inputs, labels]\n",
    "        inputs, labels  = dataloader.next() # torch.tensor([float(i)]) / 100, torch.tensor([float(i+10)]) / 100\n",
    "\n",
    "        # inputs, labels  = inputs/ -256, labels.reshape(-1, 0) / -256\n",
    "\n",
    "        # zero the parameter gradients\n",
    "        optimizer.zero_grad()\n",
    "\n",
    "        # forward + backward + optimize\n",
    "        outputs = net(torch.FloatTensor(inputs))\n",
    "        loss = criterion(outputs, torch.FloatTensor(labels))\n",
    "        loss.backward()\n",
    "        optimizer.step()\n",
    " \n",
    "        # print statistics\n",
    "        running_loss += loss.item()\n",
    "        lr.append(loss.item())\n",
    "        if iteration % 100 == 99:    # print every 2000 mini-batches\n",
    "            print(f'[{epoch + 1}, {iteration + 1:5d}] loss: {running_loss / 2000:.3f}')\n",
    "            running_loss = 0.0\n",
    "plt.plot(lr)\n",
    "            "
   ]
  },
  {
   "cell_type": "code",
   "execution_count": 116,
   "metadata": {},
   "outputs": [],
   "source": []
  },
  {
   "cell_type": "code",
   "execution_count": null,
   "metadata": {},
   "outputs": [],
   "source": []
  }
 ],
 "metadata": {
  "interpreter": {
   "hash": "5b3521386b79ae8a71fb6b122c8060f20d899f82a7bb4ecd5817dc5576419c14"
  },
  "kernelspec": {
   "display_name": "Python 3.8.8rc1 64-bit",
   "language": "python",
   "name": "python3"
  },
  "language_info": {
   "codemirror_mode": {
    "name": "ipython",
    "version": 3
   },
   "file_extension": ".py",
   "mimetype": "text/x-python",
   "name": "python",
   "nbconvert_exporter": "python",
   "pygments_lexer": "ipython3",
   "version": "3.8.8rc1"
  },
  "orig_nbformat": 4
 },
 "nbformat": 4,
 "nbformat_minor": 2
}
