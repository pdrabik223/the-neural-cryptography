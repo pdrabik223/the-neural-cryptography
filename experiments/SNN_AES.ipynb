{
 "cells": [
  {
   "cell_type": "code",
   "execution_count": 53,
   "id": "fd982564",
   "metadata": {},
   "outputs": [],
   "source": [
    "import math\n",
    "\n",
    "import snntorch as snn\n",
    "from snntorch import spikegen\n",
    "import torch\n",
    "import torch.nn as nn\n",
    "import torch.nn.functional as F\n",
    "import matplotlib.pyplot as plt\n",
    "from dataclasses import dataclass\n",
    "from typing import List\n",
    "from aes_commons import *\n",
    "import random"
   ]
  },
  {
   "cell_type": "code",
   "execution_count": 54,
   "id": "4cb697df",
   "metadata": {},
   "outputs": [],
   "source": [
    "config = {\n",
    "    # Meta\n",
    "    \"no_epochs\": 1,\n",
    "    \"batch_size\" : 100_000,\n",
    "    # SNN config\n",
    "    \"num_steps\": 25,\n",
    "    \"beta\": 0.95,\n",
    "    \n",
    "    # Network dimentions\n",
    "    \"num_inputs\": 128,\n",
    "    \"num_spiking1\": 128,\n",
    "    \"num_spiking2\": 128,\n",
    "    \"num_hidden_out\": 256,\n",
    "    \"num_outputs\": 128\n",
    "}"
   ]
  },
  {
   "cell_type": "code",
   "execution_count": 55,
   "id": "6f5700fa",
   "metadata": {},
   "outputs": [
    {
     "name": "stdout",
     "output_type": "stream",
     "text": [
      "[0.0, 1.0, 1.0, 0.0, 0.0, 0.0, 0.0, 0.0]\n"
     ]
    }
   ],
   "source": [
    "\n",
    "\n",
    "def bytes_to_float_array(data_block:List[uint8])->List[float]:\n",
    "    result : List[float] = []\n",
    "    \n",
    "    for id, byte in enumerate(data_block):\n",
    "        input = bin(byte)\n",
    "        input = input[2:]\n",
    "        input = input[::-1]\n",
    "        for _ in range(8):\n",
    "            result.append(0.0)\n",
    "\n",
    "        for i, bit in enumerate(input):\n",
    "            result[id * 8 + i] = float(bit)\n",
    "            \n",
    "    return result\n",
    "print(bytes_to_float_array({uint8(6)}))\n",
    "\n",
    "@dataclass\n",
    "class CryptoDataset:\n",
    "\n",
    "    no_bytes: int # no of bytes in ciphered message\n",
    "    batch_size: int\n",
    "    n :int\n",
    "    \n",
    "    @staticmethod\n",
    "    def from_config():        \n",
    "        return CryptoDataset(no_bytes=config[\"num_inputs\"]//8,batch_size = config[\"batch_size\"])\n",
    "        \n",
    "    def __init__(self,  no_bytes:int, batch_size:int):\n",
    "        self.no_bytes = no_bytes\n",
    "        self.batch_size = batch_size\n",
    "        self.n = 0\n",
    "    \n",
    "    def next_sub_byte(self):\n",
    "        \n",
    "        label : List[uint8] = []\n",
    "        for _ in range(self.no_bytes) :\n",
    "            label.append(uint8(random.randint(0,255)))\n",
    "        \n",
    "        input : List[uint8] = mix_columns(label) \n",
    "        return (torch.FloatTensor(bytes_to_float_array(input)),torch.FloatTensor(bytes_to_float_array(label)))\n",
    "    \n",
    "    def __iter__(self):\n",
    "        self.n = 0\n",
    "        return self\n",
    "\n",
    "    def __next__(self):\n",
    "        if self.n < self.batch_size:\n",
    "            self.n += 1\n",
    "            return self.next_sub_byte()\n",
    "        else:\n",
    "            raise StopIteration\n",
    "    \n",
    "    "
   ]
  },
  {
   "cell_type": "code",
   "execution_count": 56,
   "id": "2a0ac995",
   "metadata": {},
   "outputs": [],
   "source": [
    "\n",
    "class SNNModel(nn.Module):\n",
    "    def __init__(self):\n",
    "        super().__init__();\n",
    "        # Initialize layers\n",
    "        self.fc0 = nn.Linear(config[\"num_inputs\"], config[\"num_spiking1\"])\n",
    "        self.fc1 = nn.Linear(config[\"num_spiking1\"], config[\"num_spiking2\"])\n",
    "        self.lif1 = snn.Leaky(beta=config[\"beta\"])\n",
    "        self.fc2 = nn.Linear(config[\"num_spiking2\"], config[\"num_hidden_out\"])\n",
    "        self.lif2 = snn.Leaky(beta=config[\"beta\"])\n",
    "        \n",
    "        self.fc3 = nn.Linear(config[\"num_hidden_out\"], config[\"num_hidden_out\"])\n",
    "        self.drop = nn.Dropout(p=0.1, inplace=False)\n",
    "        self.fc4 = nn.Linear(config[\"num_hidden_out\"], config[\"num_outputs\"])\n",
    "\n",
    "        self.sigmoid = nn.Sigmoid()\n",
    "        self.relu = nn.ReLU()\n",
    "\n",
    "    def forward(self, x):\n",
    "        # Initialize hidden state for each pass\n",
    "        memory1 = self.lif1.init_leaky()\n",
    "        memory2 = self.lif2.init_leaky()\n",
    "        \n",
    "        result_spikes = []\n",
    "        result_membrain = []\n",
    "        y = self.fc0(x)\n",
    "        \n",
    "        x = spikegen.rate(x, num_steps=config[\"num_steps\"])\n",
    "        \n",
    "        spike_sum = torch.zeros(config[\"num_hidden_out\"])\n",
    "        for step in range(config[\"num_steps\"]):\n",
    "            cur1 = self.fc1(y)\n",
    "            spikes1, memory1 = self.lif1(cur1, memory1)\n",
    "            cur2 = self.fc2(spikes1)\n",
    "            spikes2, memory2 = self.lif2(cur2, memory2)\n",
    "            spike_sum += spikes2\n",
    "        \n",
    "        # spike_sum = self.sigmoid(spike_sum)\n",
    "        out = self.fc3(spike_sum)\n",
    "        out = self.relu(out)\n",
    "        out = self.drop(out)\n",
    "        out = self.relu(out)\n",
    "        out = self.fc4(out)\n",
    "        out = self.relu(out)\n",
    "        \n",
    "        # Maybe another dense layer\n",
    "        \n",
    "        return self.sigmoid(out)\n"
   ]
  },
  {
   "cell_type": "code",
   "execution_count": 57,
   "id": "a82bea26",
   "metadata": {},
   "outputs": [],
   "source": [
    "class NNModel(nn.Module):\n",
    "    def __init__(self):\n",
    "        super(NNModel, self).__init__()\n",
    "        self.fc1 = nn.Linear(config['num_inputs'], config['num_hidden_out'])\n",
    "        self.fc2 = nn.Linear(config['num_hidden_out'], config['num_hidden_out'])\n",
    "        self.dropout = torch.nn.Dropout(p=0.1, inplace=False)\n",
    "        self.fc3 = nn.Linear(config['num_hidden_out'], config['num_outputs'])\n",
    "\n",
    "    def forward(self, x):\n",
    "        x = self.fc1(F.relu(x))\n",
    "        x = self.fc2(F.relu(x))\n",
    "        x = self.dropout(x)\n",
    "        x = F.sigmoid(self.fc3(F.relu(x)))\n",
    "        return x\n",
    "\n"
   ]
  },
  {
   "cell_type": "code",
   "execution_count": 58,
   "id": "8ecb6c5d",
   "metadata": {},
   "outputs": [
    {
     "data": {
      "text/plain": [
       "(SNNModel(\n",
       "   (fc0): Linear(in_features=128, out_features=128, bias=True)\n",
       "   (fc1): Linear(in_features=128, out_features=128, bias=True)\n",
       "   (lif1): Leaky()\n",
       "   (fc2): Linear(in_features=128, out_features=256, bias=True)\n",
       "   (lif2): Leaky()\n",
       "   (fc3): Linear(in_features=256, out_features=256, bias=True)\n",
       "   (drop): Dropout(p=0.1, inplace=False)\n",
       "   (fc4): Linear(in_features=256, out_features=128, bias=True)\n",
       "   (sigmoid): Sigmoid()\n",
       "   (relu): ReLU()\n",
       " ),\n",
       " NNModel(\n",
       "   (fc1): Linear(in_features=128, out_features=256, bias=True)\n",
       "   (fc2): Linear(in_features=256, out_features=256, bias=True)\n",
       "   (dropout): Dropout(p=0.1, inplace=False)\n",
       "   (fc3): Linear(in_features=256, out_features=128, bias=True)\n",
       " ))"
      ]
     },
     "execution_count": 58,
     "metadata": {},
     "output_type": "execute_result"
    }
   ],
   "source": [
    "spiking = SNNModel()\n",
    "standard = NNModel()\n",
    "spiking, standard"
   ]
  },
  {
   "cell_type": "code",
   "execution_count": 59,
   "id": "e3b44552",
   "metadata": {},
   "outputs": [
    {
     "data": {
      "text/plain": [
       "CryptoDataset(no_bytes=16, batch_size=100000, n=0)"
      ]
     },
     "execution_count": 59,
     "metadata": {},
     "output_type": "execute_result"
    }
   ],
   "source": [
    "from torch.utils.data import DataLoader\n",
    "train_loader = CryptoDataset.from_config()\n",
    "train_loader"
   ]
  },
  {
   "cell_type": "code",
   "execution_count": 60,
   "id": "507b5638",
   "metadata": {},
   "outputs": [
    {
     "data": {
      "text/plain": [
       "torch.Size([25, 128])"
      ]
     },
     "execution_count": 60,
     "metadata": {},
     "output_type": "execute_result"
    }
   ],
   "source": [
    "import snntorch.spikeplot as splt\n",
    "\n",
    "# Iterate through minibatches\n",
    "data = iter(train_loader)\n",
    "data_it, targets_it = next(data)\n",
    "\n",
    "# Spiking Data\n",
    "spike_data =spikegen.rate(data_it, num_steps=config[\"num_steps\"])\n",
    "spike_data.size()"
   ]
  },
  {
   "cell_type": "code",
   "execution_count": 61,
   "id": "b464d522",
   "metadata": {},
   "outputs": [
    {
     "data": {
      "text/plain": [
       "<matplotlib.collections.PathCollection at 0x1352fd930>"
      ]
     },
     "execution_count": 61,
     "metadata": {},
     "output_type": "execute_result"
    },
    {
     "data": {
      "image/png": "[encoded data removed]",
      "text/plain": [
       "<Figure size 720x360 with 1 Axes>"
      ]
     },
     "metadata": {},
     "output_type": "display_data"
    }
   ],
   "source": [
    "spike_data = spike_data[:]\n",
    "spike_data_sample_plot = spike_data.reshape((config[\"num_steps\"], -1))\n",
    "fig = plt.figure(facecolor=\"w\", figsize=(10, 5))\n",
    "ax = fig.add_subplot(111)\n",
    "splt.raster(spike_data_sample_plot, ax, s=1.5)"
   ]
  },
  {
   "cell_type": "code",
   "execution_count": 62,
   "id": "73b9a808",
   "metadata": {},
   "outputs": [],
   "source": [
    "loss_func = nn.L1Loss() # Idk\n",
    "snn_optimizer = torch.optim.Adam(spiking.parameters(), lr=0.0005)\n",
    "nn_optimizer = torch.optim.Adam(standard.parameters(), lr=0.0005)\n",
    "nn_loss_hist = []\n",
    "snn_loss_hist = []"
   ]
  },
  {
   "cell_type": "code",
   "execution_count": 63,
   "id": "46ff1c30",
   "metadata": {},
   "outputs": [
    {
     "name": "stderr",
     "output_type": "stream",
     "text": [
      "Epoch 0: 100%|██████████| 100000/100000 [11:17<00:00, 147.68it/s]\n"
     ]
    }
   ],
   "source": [
    "from tqdm import tqdm\n",
    "for epoch in range(config[\"no_epochs\"]):\n",
    "    for batch_idx, (x, y) in tqdm(enumerate(train_loader), total=config[\"batch_size\"], desc=f\"Epoch {epoch}\"):\n",
    "        spiking.train()\n",
    "        standard.train()\n",
    "        \n",
    "        y = x\n",
    "\n",
    "        # forward\n",
    "        output = spiking(x)\n",
    "        snn_loss = loss_func(output, y)\n",
    "        \n",
    "        # Gradient calculation + weight update\n",
    "        snn_optimizer.zero_grad()\n",
    "        snn_loss.backward()\n",
    "        snn_optimizer.step()\n",
    "        \n",
    "        # forward\n",
    "        output = standard(x)\n",
    "        nn_loss = loss_func(output, y)\n",
    "        # Gradient calculation + weight update\n",
    "        nn_optimizer.zero_grad()\n",
    "        nn_loss.backward()\n",
    "        nn_optimizer.step()\n",
    "\n",
    "        # Store loss history for future plotting\n",
    "        snn_loss_hist.append(snn_loss.item())\n",
    "        nn_loss_hist.append(nn_loss.item())"
   ]
  },
  {
   "cell_type": "code",
   "execution_count": 64,
   "id": "55df64e3",
   "metadata": {},
   "outputs": [
    {
     "data": {
      "image/png": "[encoded data removed]",
      "text/plain": [
       "<Figure size 432x288 with 1 Axes>"
      ]
     },
     "metadata": {
      "needs_background": "light"
     },
     "output_type": "display_data"
    },
    {
     "data": {
      "image/png": "[encoded data removed]",
      "text/plain": [
       "<Figure size 432x288 with 1 Axes>"
      ]
     },
     "metadata": {
      "needs_background": "light"
     },
     "output_type": "display_data"
    },
    {
     "data": {
      "text/plain": [
       "[<matplotlib.lines.Line2D at 0x1368d9c60>]"
      ]
     },
     "execution_count": 64,
     "metadata": {},
     "output_type": "execute_result"
    },
    {
     "data": {
      "image/png": "[encoded data removed]",
      "text/plain": [
       "<Figure size 432x288 with 1 Axes>"
      ]
     },
     "metadata": {
      "needs_background": "light"
     },
     "output_type": "display_data"
    }
   ],
   "source": [
    "# plt.yscale(\"log\")\n",
    "plt.plot(snn_loss_hist)\n",
    "plt.show()\n",
    "plt.plot(nn_loss_hist)\n",
    "plt.show()\n",
    "plt.plot(snn_loss_hist)\n",
    "plt.plot(nn_loss_hist)"
   ]
  },
  {
   "cell_type": "code",
   "execution_count": 65,
   "metadata": {},
   "outputs": [
    {
     "data": {
      "image/png": "[encoded data removed]",
      "text/plain": [
       "<Figure size 432x288 with 1 Axes>"
      ]
     },
     "metadata": {
      "needs_background": "light"
     },
     "output_type": "display_data"
    },
    {
     "data": {
      "image/png": "[encoded data removed]",
      "text/plain": [
       "<Figure size 432x288 with 1 Axes>"
      ]
     },
     "metadata": {
      "needs_background": "light"
     },
     "output_type": "display_data"
    },
    {
     "data": {
      "text/plain": [
       "(array([5.000e+00, 9.000e+00, 3.200e+01, 5.000e+01, 1.220e+02, 1.780e+02,\n",
       "        3.050e+02, 4.730e+02, 5.720e+02, 8.050e+02, 1.034e+03, 1.326e+03,\n",
       "        1.633e+03, 1.877e+03, 2.186e+03, 2.574e+03, 2.745e+03, 3.094e+03,\n",
       "        3.349e+03, 3.660e+03, 3.674e+03, 3.716e+03, 3.762e+03, 3.758e+03,\n",
       "        3.634e+03, 3.600e+03, 3.507e+03, 3.383e+03, 3.165e+03, 2.993e+03,\n",
       "        2.774e+03, 2.670e+03, 2.417e+03, 2.198e+03, 2.103e+03, 1.829e+03,\n",
       "        1.725e+03, 1.603e+03, 1.453e+03, 1.299e+03, 1.180e+03, 1.138e+03,\n",
       "        1.011e+03, 9.280e+02, 8.020e+02, 7.460e+02, 6.870e+02, 6.700e+02,\n",
       "        6.010e+02, 5.520e+02, 5.420e+02, 4.870e+02, 4.570e+02, 4.140e+02,\n",
       "        4.020e+02, 3.870e+02, 3.560e+02, 3.240e+02, 2.810e+02, 2.910e+02,\n",
       "        3.030e+02, 2.500e+02, 2.630e+02, 2.510e+02, 2.210e+02, 2.290e+02,\n",
       "        2.090e+02, 2.340e+02, 1.920e+02, 1.700e+02, 1.860e+02, 1.580e+02,\n",
       "        1.680e+02, 1.540e+02, 1.360e+02, 1.370e+02, 1.340e+02, 1.290e+02,\n",
       "        1.100e+02, 1.050e+02, 1.120e+02, 1.200e+02, 9.400e+01, 1.080e+02,\n",
       "        7.800e+01, 8.600e+01, 8.500e+01, 7.700e+01, 7.400e+01, 6.800e+01,\n",
       "        5.700e+01, 6.900e+01, 5.200e+01, 5.900e+01, 4.300e+01, 6.100e+01,\n",
       "        5.000e+01, 5.100e+01, 5.300e+01, 5.200e+01, 5.100e+01, 6.100e+01,\n",
       "        4.200e+01, 4.900e+01, 4.900e+01, 3.900e+01, 6.300e+01, 5.700e+01,\n",
       "        5.200e+01, 4.000e+01, 7.100e+01, 6.700e+01, 8.600e+01, 6.900e+01,\n",
       "        8.800e+01, 9.700e+01, 1.140e+02, 5.400e+01, 3.300e+01, 3.300e+01,\n",
       "        1.900e+01, 1.300e+01, 4.000e+00, 8.000e+00, 2.000e+00, 1.000e+00,\n",
       "        1.000e+00, 1.000e+00]),\n",
       " array([0.00348651, 0.00775418, 0.01202185, 0.01628952, 0.02055718,\n",
       "        0.02482485, 0.02909252, 0.03336019, 0.03762786, 0.04189553,\n",
       "        0.04616319, 0.05043086, 0.05469853, 0.0589662 , 0.06323387,\n",
       "        0.06750154, 0.07176921, 0.07603687, 0.08030454, 0.08457221,\n",
       "        0.08883988, 0.09310755, 0.09737522, 0.10164288, 0.10591055,\n",
       "        0.11017822, 0.11444589, 0.11871356, 0.12298123, 0.12724889,\n",
       "        0.13151656, 0.13578423, 0.1400519 , 0.14431957, 0.14858724,\n",
       "        0.1528549 , 0.15712257, 0.16139024, 0.16565791, 0.16992558,\n",
       "        0.17419325, 0.17846091, 0.18272858, 0.18699625, 0.19126392,\n",
       "        0.19553159, 0.19979926, 0.20406692, 0.20833459, 0.21260226,\n",
       "        0.21686993, 0.2211376 , 0.22540527, 0.22967293, 0.2339406 ,\n",
       "        0.23820827, 0.24247594, 0.24674361, 0.25101128, 0.25527895,\n",
       "        0.25954661, 0.26381428, 0.26808195, 0.27234962, 0.27661729,\n",
       "        0.28088496, 0.28515262, 0.28942029, 0.29368796, 0.29795563,\n",
       "        0.3022233 , 0.30649097, 0.31075863, 0.3150263 , 0.31929397,\n",
       "        0.32356164, 0.32782931, 0.33209698, 0.33636464, 0.34063231,\n",
       "        0.34489998, 0.34916765, 0.35343532, 0.35770299, 0.36197065,\n",
       "        0.36623832, 0.37050599, 0.37477366, 0.37904133, 0.383309  ,\n",
       "        0.38757666, 0.39184433, 0.396112  , 0.40037967, 0.40464734,\n",
       "        0.40891501, 0.41318268, 0.41745034, 0.42171801, 0.42598568,\n",
       "        0.43025335, 0.43452102, 0.43878869, 0.44305635, 0.44732402,\n",
       "        0.45159169, 0.45585936, 0.46012703, 0.4643947 , 0.46866236,\n",
       "        0.47293003, 0.4771977 , 0.48146537, 0.48573304, 0.49000071,\n",
       "        0.49426837, 0.49853604, 0.50280371, 0.50707138, 0.51133905,\n",
       "        0.51560672, 0.51987438, 0.52414205, 0.52840972, 0.53267739,\n",
       "        0.53694506, 0.54121273, 0.54548039, 0.54974806]),\n",
       " <BarContainer object of 128 artists>)"
      ]
     },
     "execution_count": 65,
     "metadata": {},
     "output_type": "execute_result"
    },
    {
     "data": {
      "image/png": "[encoded data removed]",
      "text/plain": [
       "<Figure size 432x288 with 1 Axes>"
      ]
     },
     "metadata": {
      "needs_background": "light"
     },
     "output_type": "display_data"
    }
   ],
   "source": [
    "plt.hist(snn_loss_hist,bins=128)\n",
    "plt.show()\n",
    "plt.hist(nn_loss_hist,bins=128)\n",
    "plt.show()\n",
    "plt.hist(snn_loss_hist,bins=128)\n",
    "plt.hist(nn_loss_hist,bins=128)"
   ]
  },
  {
   "cell_type": "code",
   "execution_count": 66,
   "id": "8460b618",
   "metadata": {},
   "outputs": [],
   "source": [
    "import numpy as np\n",
    "\n",
    "def count_bad(input: torch.Tensor, output: torch.Tensor):\n",
    "    assert len(input) == len(output)\n",
    "\n",
    "    input = input.detach().numpy()\n",
    "    output = output.detach().numpy()\n",
    "    input, output = np.around(input, 0) , np.around(output, 0)\n",
    "    diff = np.abs(input - output)\n",
    "    return sum(diff)\n",
    "\n",
    "\n",
    "a = torch.tensor([0.23, .33, .66])\n",
    "b = torch.tensor([0.33, .46, .70])\n",
    "c = torch.tensor([.55, .12, .1])\n",
    "assert count_bad(a,b) == 0\n",
    "assert count_bad(a,c) == 2"
   ]
  },
  {
   "cell_type": "code",
   "execution_count": 67,
   "id": "98b52489",
   "metadata": {},
   "outputs": [
    {
     "name": "stdout",
     "output_type": "stream",
     "text": [
      "Spiking incorrect:  63.803\n",
      "Standard incorrext:  3.321\n"
     ]
    }
   ],
   "source": [
    "spiking_global_loss = .0\n",
    "standard_global_loss = .0\n",
    "samples = 1000\n",
    "spiking.eval()\n",
    "standard.eval()\n",
    "with torch.no_grad():\n",
    "    for index in range(samples):\n",
    "        inputs, labels = train_loader.next_sub_byte()\n",
    "        outputs = spiking(inputs)\n",
    "        spiking_global_loss += count_bad(inputs, outputs) / config[\"num_outputs\"]\n",
    "        \n",
    "        outputs = standard(inputs)\n",
    "        standard_global_loss += count_bad(inputs, outputs) / config[\"num_outputs\"]\n",
    "\n",
    "print(\"Spiking incorrect: \", config[\"num_outputs\"] * spiking_global_loss / samples)\n",
    "print(\"Standard incorrext: \", config[\"num_outputs\"] * standard_global_loss / samples)"
   ]
  },
  {
   "cell_type": "code",
   "execution_count": 68,
   "id": "aa35036d",
   "metadata": {},
   "outputs": [],
   "source": [
    "import math\n",
    "\n",
    "def binomial(k, n, p=0.5):\n",
    "    \"\"\"Binomial distribution with \n",
    "\n",
    "    Args:\n",
    "        k (int): Number of successes\n",
    "        n (int): Number of trials\n",
    "        p (float, optional Probability of success. Defaults to 0.5.\n",
    "\n",
    "    Returns:\n",
    "        (float): Probability of exactly k successes\n",
    "    \"\"\"\n",
    "    return (math.comb(n,k) * (p**k) * ((1-p)**(n-k)))"
   ]
  },
  {
   "cell_type": "code",
   "execution_count": 69,
   "id": "e81c2dab",
   "metadata": {},
   "outputs": [
    {
     "data": {
      "text/plain": [
       "<matplotlib.collections.PathCollection at 0x140be26e0>"
      ]
     },
     "execution_count": 69,
     "metadata": {},
     "output_type": "execute_result"
    },
    {
     "data": {
      "image/png": "[encoded data removed]",
      "text/plain": [
       "<Figure size 432x288 with 1 Axes>"
      ]
     },
     "metadata": {
      "needs_background": "light"
     },
     "output_type": "display_data"
    }
   ],
   "source": [
    "plt.bar(list(range(config[\"num_outputs\"])), [binomial(i, config[\"num_outputs\"]) for i in range(config[\"num_outputs\"])])\n",
    "\n",
    "spiking_ok = config[\"num_outputs\"] - int(config[\"num_outputs\"] * spiking_global_loss / samples)\n",
    "plt.scatter([spiking_ok],binomial(int(spiking_ok), config[\"num_outputs\"]))\n",
    "\n",
    "standard_ok = config[\"num_outputs\"] - int(config[\"num_outputs\"] * standard_global_loss / samples)\n",
    "plt.scatter([standard_ok],binomial(int(standard_ok), config[\"num_outputs\"]))"
   ]
  },
  {
   "cell_type": "code",
   "execution_count": null,
   "id": "e8e4979f",
   "metadata": {},
   "outputs": [],
   "source": []
  }
 ],
 "metadata": {
  "kernelspec": {
   "display_name": "Python 3.10.4 ('nn-crypto')",
   "language": "python",
   "name": "python3"
  },
  "language_info": {
   "codemirror_mode": {
    "name": "ipython",
    "version": 3
   },
   "file_extension": ".py",
   "mimetype": "text/x-python",
   "name": "python",
   "nbconvert_exporter": "python",
   "pygments_lexer": "ipython3",
   "version": "3.10.4"
  },
  "vscode": {
   "interpreter": {
    "hash": "e027b21d8c91cb15f29de7082344af1ba339ca876801dd9d70d2e1b0b84984aa"
   }
  }
 },
 "nbformat": 4,
 "nbformat_minor": 5
}
