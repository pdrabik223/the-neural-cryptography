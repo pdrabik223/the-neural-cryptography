{
 "cells": [
  {
   "cell_type": "code",
   "execution_count": 59,
   "id": "fd982564",
   "metadata": {},
   "outputs": [],
   "source": [
    "import math\n",
    "\n",
    "import snntorch as snn\n",
    "from snntorch import spikegen\n",
    "import torch\n",
    "import torch.nn as nn\n",
    "import torch.nn.functional as F\n",
    "import matplotlib.pyplot as plt\n",
    "from dataclasses import dataclass\n",
    "from typing import List\n",
    "from aes_commons import *\n",
    "import random"
   ]
  },
  {
   "cell_type": "code",
   "execution_count": null,
   "id": "e4dfcbaa",
   "metadata": {},
   "outputs": [],
   "source": [
    "import matplotlib\n",
    "matplotlib.use(\"pgf\")\n",
    "font_size = 13\n",
    "matplotlib.rcParams.update({\n",
    "    \"pgf.texsystem\": \"pdflatex\",\n",
    "    'font.family': 'serif',\n",
    "    'axes.titlesize': font_size,\n",
    "    'font.size': font_size,\n",
    "    'text.usetex': True,\n",
    "    'pgf.rcfonts': False,\n",
    "    'font.size' : font_size,\n",
    "    'axes.labelsize': font_size,\n",
    "    'legend.fontsize': font_size,\n",
    "    'legend.title_fontsize': font_size,\n",
    "    'text.usetex': True,\n",
    "})"
   ]
  },
  {
   "cell_type": "code",
   "execution_count": 60,
   "id": "4cb697df",
   "metadata": {},
   "outputs": [],
   "source": [
    "config = {\n",
    "    # Meta\n",
    "    \"no_epochs\": 1,\n",
    "    \"batch_size\" : 10_000,\n",
    "\n",
    "    # SNN config\n",
    "    \"num_steps\": 25,\n",
    "    \"beta\": 0.95,\n",
    "    \n",
    "    # Network dimentions  \n",
    "    \"num_inputs\": 128,\n",
    "    \"num_spiking1\": 128,\n",
    "    \"num_spiking2\": 128,\n",
    "    \"num_hidden_out\": 256,\n",
    "    \"num_outputs\": 128\n",
    "}"
   ]
  },
  {
   "cell_type": "code",
   "execution_count": 61,
   "id": "6f5700fa",
   "metadata": {},
   "outputs": [
    {
     "name": "stdout",
     "output_type": "stream",
     "text": [
      "[0.0, 1.0, 1.0, 0.0, 0.0, 0.0, 0.0, 0.0]\n"
     ]
    }
   ],
   "source": [
    "\n",
    "\n",
    "def bytes_to_float_array(data_block:List[uint8])->List[float]:\n",
    "    result : List[float] = []\n",
    "    \n",
    "    for id, byte in enumerate(data_block):\n",
    "        input = bin(byte)\n",
    "        input = input[2:]\n",
    "        input = input[::-1]\n",
    "        for _ in range(8):\n",
    "            result.append(0.0)\n",
    "\n",
    "        for i, bit in enumerate(input):\n",
    "            result[id * 8 + i] = float(bit)\n",
    "            \n",
    "    return result\n",
    "\n",
    "def bytes_to_float_array2(input, size):\n",
    "    assert isinstance(input, bytes)\n",
    "    input = bin(int.from_bytes(input, 'little'))\n",
    "    input = input[2:]\n",
    "    output = torch.zeros(size, dtype=torch.float32)\n",
    "    for i, b in enumerate(input):\n",
    "        output[i] = float(b)\n",
    "    return output\n",
    "\n",
    "print(bytes_to_float_array({uint8(6)}))\n",
    "\n",
    "@dataclass\n",
    "class CryptoDataset:\n",
    "\n",
    "    no_bytes: int # no of bytes in ciphered message\n",
    "    batch_size: int\n",
    "    n :int\n",
    "    \n",
    "    @staticmethod\n",
    "    def from_config():        \n",
    "        return CryptoDataset(no_bytes=config[\"num_inputs\"]//8, batch_size = config[\"batch_size\"])\n",
    "        \n",
    "    def __init__(self,  no_bytes:int, batch_size:int):\n",
    "        self.no_bytes = no_bytes\n",
    "        self.batch_size = batch_size\n",
    "        self.n = 0\n",
    "    \n",
    "    def next_sub_byte(self):\n",
    "        label : List[uint8] = []\n",
    "        for _ in range(self.no_bytes) :\n",
    "            label.append(uint8(random.randint(0,255)))\n",
    "        \n",
    "        input : List[uint8] = mix_columns(label) \n",
    "        return (torch.FloatTensor(bytes_to_float_array(input)),torch.FloatTensor(bytes_to_float_array(label)))\n",
    "    \n",
    "    def __iter__(self):\n",
    "        self.n = 0\n",
    "        return self\n",
    "\n",
    "    def __next__(self):\n",
    "        if self.n < self.batch_size:\n",
    "            self.n += 1\n",
    "            return self.next_sub_byte()\n",
    "        else:\n",
    "            raise StopIteration\n",
    "\n",
    "from typing import Any\n",
    "\n",
    "@dataclass()\n",
    "class ArbitraryFunction:\n",
    "    func: Any\n",
    "    xs: Any\n",
    "    batch_size = config[\"batch_size\"]\n",
    "    n = 0\n",
    "\n",
    "    def __iter__(self):\n",
    "        self.n = 0\n",
    "        return self\n",
    "\n",
    "    def __next__(self):\n",
    "        if self.n < config[\"batch_size\"]:\n",
    "            self.n += 1\n",
    "            x = self.xs[self.n - 1]\n",
    "            y = self.func(x)\n",
    "            return torch.FloatTensor(bytes_to_float_array2(bytes(x), 128)) , torch.FloatTensor(bytes_to_float_array2(bytes(y), 128))\n",
    "        else:\n",
    "            raise StopIteration\n",
    "    \n",
    "    "
   ]
  },
  {
   "cell_type": "code",
   "execution_count": 62,
   "id": "a19a155e",
   "metadata": {},
   "outputs": [],
   "source": [
    "\n",
    "def int_to_float_array(val:int)->List[float]:\n",
    "    \n",
    "    input = bin(val)\n",
    "    result = np.zeros(128)\n",
    "    input = input[2:]\n",
    "    input = input[::-1]\n",
    "    for i, bit in enumerate(input):\n",
    "        result[i] = float(bit)\n",
    "    \n",
    "    return result\n",
    "\n",
    "\n",
    "def x_square(input:int)->int:\n",
    "     \n",
    "    return input**2\n",
    "\n",
    "@dataclass\n",
    "class XSquared:\n",
    "\n",
    "    no_bytes: int # no of bytes in ciphered message\n",
    "    batch_size: int\n",
    "    n :int\n",
    "    \n",
    "    @staticmethod\n",
    "    def from_config():        \n",
    "        return XSquared(no_bytes=config[\"num_inputs\"]//8,batch_size = config[\"batch_size\"])\n",
    "        \n",
    "    def __init__(self,  no_bytes:int, batch_size:int):\n",
    "        self.no_bytes = no_bytes\n",
    "        self.batch_size = batch_size\n",
    "        self.n = 0\n",
    "    \n",
    "    def next_x_square(self):\n",
    "        \n",
    "        label = random.getrandbits(64)\n",
    "        # label = 4\n",
    "        input = x_square(label) \n",
    "        return (torch.FloatTensor(int_to_float_array(input)),torch.FloatTensor(int_to_float_array(label)))\n",
    "    \n",
    "    def __iter__(self):\n",
    "        self.n = 0\n",
    "        return self\n",
    "\n",
    "    def __next__(self):\n",
    "        if self.n < self.batch_size:\n",
    "            self.n += 1\n",
    "            return self.next_x_square()\n",
    "        else:\n",
    "            raise StopIteration"
   ]
  },
  {
   "cell_type": "code",
   "execution_count": 63,
   "id": "2a0ac995",
   "metadata": {},
   "outputs": [],
   "source": [
    "\n",
    "class SNNModel(nn.Module):\n",
    "    def __init__(self):\n",
    "        super().__init__()\n",
    "        # Initialize layers\n",
    "        self.fc0 = nn.Linear(config[\"num_inputs\"], config[\"num_spiking1\"])\n",
    "        self.fc1 = nn.Linear(config[\"num_spiking1\"], config[\"num_spiking2\"])\n",
    "        self.lif1 = snn.Leaky(beta=config[\"beta\"])\n",
    "        self.fc2 = nn.Linear(config[\"num_spiking2\"], config[\"num_hidden_out\"])\n",
    "        self.lif2 = snn.Leaky(beta=config[\"beta\"])\n",
    "        \n",
    "        self.fc3 = nn.Linear(config[\"num_hidden_out\"], config[\"num_hidden_out\"])\n",
    "        self.drop = nn.Dropout(p=0.1, inplace=False)\n",
    "        self.fc4 = nn.Linear(config[\"num_hidden_out\"], config[\"num_outputs\"])\n",
    "\n",
    "        self.sigmoid = nn.Sigmoid()\n",
    "        self.relu = nn.ReLU()\n",
    "\n",
    "    def forward(self, x):\n",
    "        # Initialize hidden state for each pass\n",
    "        memory1 = self.lif1.init_leaky()\n",
    "        memory2 = self.lif2.init_leaky()\n",
    "        \n",
    "        result_spikes = []\n",
    "        result_membrain = []\n",
    "        y = self.fc0(x)\n",
    "        \n",
    "        x = spikegen.rate(x, num_steps=config[\"num_steps\"])\n",
    "        \n",
    "        spike_sum = torch.zeros(config[\"num_hidden_out\"])\n",
    "        for step in range(config[\"num_steps\"]):\n",
    "            cur1 = self.fc1(y)\n",
    "            spikes1, memory1 = self.lif1(cur1, memory1)\n",
    "            cur2 = self.fc2(spikes1)\n",
    "            spikes2, memory2 = self.lif2(cur2, memory2)\n",
    "            spike_sum += spikes2\n",
    "        \n",
    "        # spike_sum = self.sigmoid(spike_sum)\n",
    "        out = self.fc3(spike_sum)\n",
    "        out = self.relu(out)\n",
    "        out = self.drop(out)\n",
    "        out = self.relu(out)\n",
    "        out = self.fc4(out)\n",
    "        # out = self.relu(out)\n",
    "        \n",
    "        # Maybe another dense layer\n",
    "        \n",
    "        return self.sigmoid(out)\n"
   ]
  },
  {
   "cell_type": "code",
   "execution_count": 64,
   "id": "a82bea26",
   "metadata": {},
   "outputs": [],
   "source": [
    "class NNModel(nn.Module):\n",
    "    def __init__(self):\n",
    "        super(NNModel, self).__init__()\n",
    "        self.fc1 = nn.Linear(config['num_inputs'], config['num_hidden_out'])\n",
    "        self.fc2 = nn.Linear(config['num_hidden_out'], config['num_hidden_out'])\n",
    "        self.dropout = torch.nn.Dropout(p=0.1, inplace=False)\n",
    "        self.fc3 = nn.Linear(config['num_hidden_out'], config['num_outputs'])\n",
    "\n",
    "    def forward(self, x):\n",
    "        x = self.fc1(F.relu(x))\n",
    "        x = self.fc2(F.relu(x))\n",
    "        x = self.dropout(x)\n",
    "        x = F.sigmoid(self.fc3(F.relu(x)))\n",
    "        return x\n",
    "\n"
   ]
  },
  {
   "cell_type": "code",
   "execution_count": 65,
   "id": "8ecb6c5d",
   "metadata": {},
   "outputs": [
    {
     "data": {
      "text/plain": [
       "(SNNModel(\n",
       "   (fc0): Linear(in_features=128, out_features=128, bias=True)\n",
       "   (fc1): Linear(in_features=128, out_features=128, bias=True)\n",
       "   (lif1): Leaky()\n",
       "   (fc2): Linear(in_features=128, out_features=256, bias=True)\n",
       "   (lif2): Leaky()\n",
       "   (fc3): Linear(in_features=256, out_features=256, bias=True)\n",
       "   (drop): Dropout(p=0.1, inplace=False)\n",
       "   (fc4): Linear(in_features=256, out_features=128, bias=True)\n",
       "   (sigmoid): Sigmoid()\n",
       "   (relu): ReLU()\n",
       " ),\n",
       " NNModel(\n",
       "   (fc1): Linear(in_features=128, out_features=256, bias=True)\n",
       "   (fc2): Linear(in_features=256, out_features=256, bias=True)\n",
       "   (dropout): Dropout(p=0.1, inplace=False)\n",
       "   (fc3): Linear(in_features=256, out_features=128, bias=True)\n",
       " ))"
      ]
     },
     "execution_count": 65,
     "metadata": {},
     "output_type": "execute_result"
    }
   ],
   "source": [
    "spiking = SNNModel()\n",
    "standard = NNModel()\n",
    "spiking, standard"
   ]
  },
  {
   "cell_type": "code",
   "execution_count": 66,
   "id": "e3b44552",
   "metadata": {},
   "outputs": [],
   "source": [
    "from torch.utils.data import DataLoader\n",
    "# train_loader = CryptoDataset.from_config()\n",
    "train_loader = XSquared.from_config()\n",
    "test_loader = XSquared.from_config()"
   ]
  },
  {
   "cell_type": "code",
   "execution_count": 67,
   "id": "507b5638",
   "metadata": {},
   "outputs": [],
   "source": [
    "# import snntorch.spikeplot as splt\n",
    "\n",
    "# # Iterate through minibatches\n",
    "# data = iter(train_loader)\n",
    "# data_it, targets_it = next(data)\n",
    "\n",
    "# # Spiking Data\n",
    "# spike_data =spikegen.rate(data_it, num_steps=config[\"num_steps\"])\n",
    "# spike_data.size()"
   ]
  },
  {
   "cell_type": "code",
   "execution_count": 68,
   "id": "b464d522",
   "metadata": {},
   "outputs": [],
   "source": [
    "# spike_data = spike_data[:]\n",
    "# spike_data_sample_plot = spike_data.reshape((config[\"num_steps\"], -1))\n",
    "# fig = plt.figure(facecolor=\"w\", figsize=(10, 5))\n",
    "# ax = fig.add_subplot(111)\n",
    "# splt.raster(spike_data_sample_plot, ax, s=1.5)"
   ]
  },
  {
   "cell_type": "code",
   "execution_count": 69,
   "id": "73b9a808",
   "metadata": {},
   "outputs": [],
   "source": [
    "loss_func = nn.L1Loss() # Idk\n",
    "snn_optimizer = torch.optim.Adam(spiking.parameters(), lr=0.0005)\n",
    "nn_optimizer = torch.optim.Adam(standard.parameters(), lr=0.0005)\n",
    "nn_loss_hist = []\n",
    "snn_loss_hist = []"
   ]
  },
  {
   "cell_type": "code",
   "execution_count": 70,
   "id": "46ff1c30",
   "metadata": {},
   "outputs": [
    {
     "name": "stderr",
     "output_type": "stream",
     "text": [
      "Epoch 0:   0%|          | 0/10000 [00:00<?, ?it/s]/Users/mkojro/miniforge3/envs/nn-crypto/lib/python3.10/site-packages/torch/nn/functional.py:1944: UserWarning: nn.functional.sigmoid is deprecated. Use torch.sigmoid instead.\n",
      "  warnings.warn(\"nn.functional.sigmoid is deprecated. Use torch.sigmoid instead.\")\n",
      "Epoch 0: 100%|██████████| 10000/10000 [01:10<00:00, 141.15it/s]\n"
     ]
    }
   ],
   "source": [
    "from tqdm import tqdm\n",
    "for epoch in range(config[\"no_epochs\"]):\n",
    "    for batch_idx, (x, y) in tqdm(enumerate(train_loader), total=config[\"batch_size\"], desc=f\"Epoch {epoch}\"):\n",
    "        spiking.train()\n",
    "        standard.train()\n",
    "        \n",
    "        # forward\n",
    "        output = spiking(x)\n",
    "        snn_loss = loss_func(output, y)\n",
    "        \n",
    "        # Gradient calculation + weight update\n",
    "        snn_optimizer.zero_grad()\n",
    "        snn_loss.backward()\n",
    "        snn_optimizer.step()\n",
    "        \n",
    "        # forward\n",
    "        output = standard(x)\n",
    "        nn_loss = loss_func(output, y)\n",
    "        # Gradient calculation + weight update\n",
    "        nn_optimizer.zero_grad()\n",
    "        nn_loss.backward()\n",
    "        nn_optimizer.step()\n",
    "\n",
    "        # Store loss history for future plotting\n",
    "        snn_loss_hist.append(snn_loss.item())\n",
    "        nn_loss_hist.append(nn_loss.item())"
   ]
  },
  {
   "cell_type": "code",
   "execution_count": 92,
   "id": "a6223861",
   "metadata": {},
   "outputs": [],
   "source": [
    "def plot(name):\n",
    "    plt.savefig(name)\n",
    "    plt.show()"
   ]
  },
  {
   "cell_type": "code",
   "execution_count": 122,
   "id": "55df64e3",
   "metadata": {},
   "outputs": [
    {
     "data": {
      "image/png": "[encoded data removed]",
      "text/plain": [
       "<Figure size 432x288 with 1 Axes>"
      ]
     },
     "metadata": {
      "needs_background": "light"
     },
     "output_type": "display_data"
    },
    {
     "data": {
      "image/png": "[encoded data removed]",
      "text/plain": [
       "<Figure size 432x288 with 1 Axes>"
      ]
     },
     "metadata": {
      "needs_background": "light"
     },
     "output_type": "display_data"
    },
    {
     "data": {
      "image/png": "[encoded data removed]",
      "text/plain": [
       "<Figure size 432x288 with 1 Axes>"
      ]
     },
     "metadata": {
      "needs_background": "light"
     },
     "output_type": "display_data"
    }
   ],
   "source": [
    "plt.title(\"Loss over time for: $f(x)=x^2$\")\n",
    "plt.ylabel(\"Loss\")\n",
    "plt.xlabel(\"$t$\")\n",
    "plt.plot(snn_loss_hist, color='r', label=\"SNN\")\n",
    "plt.legend()\n",
    "plot(\"xsqr_snn_loss_history.pgf\")\n",
    "plt.title(\"Loss over time for: $f(x)=x^2$\")\n",
    "plt.ylabel(\"Loss\")\n",
    "plt.xlabel(\"$t$\")\n",
    "plt.plot(nn_loss_hist,color='g', label='NN')\n",
    "plt.legend()\n",
    "plot(\"xsqr_nn_loss_history.pgf\")\n",
    "plt.title(\"Loss over time for: $f(x)=x^2$\")\n",
    "plt.ylabel(\"Loss\")\n",
    "plt.xlabel(\"$t$\")\n",
    "plt.plot(snn_loss_hist, color='r', label='SNN')\n",
    "plt.plot(nn_loss_hist, color='g', label='NN')\n",
    "plt.legend()\n",
    "plot(\"xsqr_both_loss_history.pgf\")"
   ]
  },
  {
   "cell_type": "code",
   "execution_count": 123,
   "metadata": {},
   "outputs": [
    {
     "data": {
      "image/png": "[encoded data removed]",
      "text/plain": [
       "<Figure size 432x288 with 1 Axes>"
      ]
     },
     "metadata": {
      "needs_background": "light"
     },
     "output_type": "display_data"
    },
    {
     "data": {
      "image/png": "[encoded data removed]",
      "text/plain": [
       "<Figure size 432x288 with 1 Axes>"
      ]
     },
     "metadata": {
      "needs_background": "light"
     },
     "output_type": "display_data"
    },
    {
     "data": {
      "image/png": "[encoded data removed]",
      "text/plain": [
       "<Figure size 432x288 with 1 Axes>"
      ]
     },
     "metadata": {
      "needs_background": "light"
     },
     "output_type": "display_data"
    }
   ],
   "source": [
    "plt.title('Loss Histogram for $f(x)=x^2$')\n",
    "plt.xlabel('Loss')\n",
    "plt.ylabel('Count')\n",
    "plt.hist(snn_loss_hist,bins=128, color='r', label='SNN')\n",
    "plt.legend()\n",
    "plot(\"xsqr_snn_loss_histogram.pgf\")\n",
    "plt.title('Loss Histogram for $f(x)=x^2$')\n",
    "plt.xlabel('Loss')\n",
    "plt.ylabel('Count')\n",
    "plt.hist(nn_loss_hist,bins=128, color='g', label='NN')\n",
    "plt.legend()\n",
    "plot(\"xsqr_nn_loss_histogram.pgf\")\n",
    "plt.title('Loss Histogram for $f(x)=x^2$')\n",
    "plt.xlabel('Loss')\n",
    "plt.ylabel('Count')\n",
    "plt.hist(snn_loss_hist,bins=128, color='r', label='SNN')\n",
    "plt.hist(nn_loss_hist,bins=128, color='g', label='NN')\n",
    "plt.legend()\n",
    "plot(\"xsqr_both_loss_histogram.pgf\")"
   ]
  },
  {
   "cell_type": "code",
   "execution_count": 85,
   "id": "8460b618",
   "metadata": {},
   "outputs": [],
   "source": [
    "import numpy as np\n",
    "\n",
    "def count_bad(input: torch.Tensor, output: torch.Tensor):\n",
    "    assert len(input) == len(output)\n",
    "    input = input.detach().numpy()\n",
    "    output = output.detach().numpy()\n",
    "    input, output = np.clip(input, 0, 1), np.clip(output, 0, 1)\n",
    "    input, output = np.around(input, 0) , np.around(output, 0)\n",
    "    diff = np.abs(input - output)\n",
    "    return sum(diff)\n",
    "\n",
    "\n",
    "a = torch.tensor([0.23, .33, .66])\n",
    "b = torch.tensor([0.33, .46, .70])\n",
    "c = torch.tensor([.55, .12, .1])\n",
    "assert count_bad(a,b) == 0\n",
    "assert count_bad(a,c) == 2"
   ]
  },
  {
   "cell_type": "code",
   "execution_count": 86,
   "id": "98b52489",
   "metadata": {},
   "outputs": [
    {
     "name": "stderr",
     "output_type": "stream",
     "text": [
      "/Users/mkojro/miniforge3/envs/nn-crypto/lib/python3.10/site-packages/torch/nn/functional.py:1944: UserWarning: nn.functional.sigmoid is deprecated. Use torch.sigmoid instead.\n",
      "  warnings.warn(\"nn.functional.sigmoid is deprecated. Use torch.sigmoid instead.\")\n"
     ]
    },
    {
     "name": "stdout",
     "output_type": "stream",
     "text": [
      "Spiking incorrect:  32.058\n",
      "Standard incorrext:  30.378\n"
     ]
    }
   ],
   "source": [
    "spiking_global_loss = .0\n",
    "standard_global_loss = .0\n",
    "samples = 1000\n",
    "spiking.eval()\n",
    "standard.eval()\n",
    "with torch.no_grad():\n",
    "    for index, (x, y) in enumerate(test_loader):\n",
    "        outputs = spiking(x)\n",
    "        spiking_global_loss += count_bad(outputs, y) / config[\"num_outputs\"]\n",
    "        \n",
    "        outputs = standard(x)\n",
    "        standard_global_loss += count_bad(outputs, y) / config[\"num_outputs\"]\n",
    "\n",
    "        if index == samples:\n",
    "            break\n",
    "\n",
    "print(\"Spiking incorrect: \", config[\"num_outputs\"] * spiking_global_loss / samples)\n",
    "print(\"Standard incorrext: \", config[\"num_outputs\"] * standard_global_loss / samples)"
   ]
  },
  {
   "cell_type": "code",
   "execution_count": 75,
   "id": "aa35036d",
   "metadata": {},
   "outputs": [],
   "source": [
    "import math\n",
    "\n",
    "def binomial(k, n, p=0.5):\n",
    "    \"\"\"Binomial distribution with \n",
    "\n",
    "    Args:\n",
    "        k (int): Number of successes\n",
    "        n (int): Number of trials\n",
    "        p (float, optional Probability of success. Defaults to 0.5.\n",
    "\n",
    "    Returns:\n",
    "        (float): Probability of exactly k successes\n",
    "    \"\"\"\n",
    "    return (math.comb(n,k) * (p**k) * ((1-p)**(n-k)))"
   ]
  },
  {
   "cell_type": "code",
   "execution_count": 124,
   "id": "e81c2dab",
   "metadata": {},
   "outputs": [
    {
     "data": {
      "image/png": "[encoded data removed]",
      "text/plain": [
       "<Figure size 432x288 with 1 Axes>"
      ]
     },
     "metadata": {
      "needs_background": "light"
     },
     "output_type": "display_data"
    }
   ],
   "source": [
    "plt.title(\"PDF for random bits\")\n",
    "plt.bar(list(range(config[\"num_outputs\"])), [binomial(i, config[\"num_outputs\"]) for i in range(config[\"num_outputs\"])], label='Binomial distributon')\n",
    "\n",
    "plt.ylabel(\"Probability\")\n",
    "plt.xlabel(\"Number of correct bits\")\n",
    "spiking_ok = config[\"num_outputs\"] - int(config[\"num_outputs\"] * spiking_global_loss / samples)\n",
    "plt.scatter([spiking_ok],binomial(int(spiking_ok), config[\"num_outputs\"]), color='r', label='SNN')\n",
    "\n",
    "standard_ok = config[\"num_outputs\"] - int(config[\"num_outputs\"] * standard_global_loss / samples)\n",
    "plt.scatter([standard_ok],binomial(int(standard_ok), config[\"num_outputs\"]), color='g', label='NN')\n",
    "plt.legend()\n",
    "plot(\"xsqr_binomial.pgf\")"
   ]
  },
  {
   "cell_type": "code",
   "execution_count": null,
   "id": "e8e4979f",
   "metadata": {},
   "outputs": [],
   "source": []
  }
 ],
 "metadata": {
  "kernelspec": {
   "display_name": "Python 3.10.4 ('nn-crypto')",
   "language": "python",
   "name": "python3"
  },
  "language_info": {
   "codemirror_mode": {
    "name": "ipython",
    "version": 3
   },
   "file_extension": ".py",
   "mimetype": "text/x-python",
   "name": "python",
   "nbconvert_exporter": "python",
   "pygments_lexer": "ipython3",
   "version": "3.10.4"
  },
  "vscode": {
   "interpreter": {
    "hash": "e027b21d8c91cb15f29de7082344af1ba339ca876801dd9d70d2e1b0b84984aa"
   }
  }
 },
 "nbformat": 4,
 "nbformat_minor": 5
}
