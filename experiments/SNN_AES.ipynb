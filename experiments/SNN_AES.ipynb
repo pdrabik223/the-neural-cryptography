{
 "cells": [
  {
   "cell_type": "code",
   "execution_count": 1,
   "id": "fd982564",
   "metadata": {},
   "outputs": [
    {
     "name": "stderr",
     "output_type": "stream",
     "text": [
      "/Users/mkojro/miniforge3/envs/nn-crypto/lib/python3.10/site-packages/tqdm/auto.py:22: TqdmWarning: IProgress not found. Please update jupyter and ipywidgets. See https://ipywidgets.readthedocs.io/en/stable/user_install.html\n",
      "  from .autonotebook import tqdm as notebook_tqdm\n"
     ]
    }
   ],
   "source": [
    "import math\n",
    "\n",
    "import snntorch as snn\n",
    "from snntorch import spikegen\n",
    "import torch\n",
    "import torch.nn as nn\n",
    "import torch.nn.functional as F\n",
    "import matplotlib.pyplot as plt\n",
    "from dataclasses import dataclass\n",
    "from typing import List\n",
    "from aes_commons import *\n",
    "import random"
   ]
  },
  {
   "cell_type": "code",
   "execution_count": 2,
   "id": "4cb697df",
   "metadata": {},
   "outputs": [],
   "source": [
    "config = {\n",
    "    # Meta\n",
    "    \"no_epochs\": 1,\n",
    "    \"batch_size\" : 10_000,\n",
    "    # SNN config\n",
    "    \"num_steps\": 128,\n",
    "    \"beta\": 0.95,\n",
    "    \n",
    "    # Network dimentions\n",
    "    \"num_inputs\": 128,\n",
    "    \"num_spiking1\": 128,\n",
    "    \"num_spiking2\": 128,\n",
    "    \"num_hidden_out\": 256,\n",
    "    \"num_outputs\": 128\n",
    "}"
   ]
  },
  {
   "cell_type": "code",
   "execution_count": 3,
   "id": "6f5700fa",
   "metadata": {},
   "outputs": [
    {
     "name": "stdout",
     "output_type": "stream",
     "text": [
      "[0.0, 1.0, 1.0, 0.0, 0.0, 0.0, 0.0, 0.0]\n"
     ]
    }
   ],
   "source": [
    "\n",
    "\n",
    "def bytes_to_float_array(data_block:List[uint8])->List[float]:\n",
    "    result : List[float] = []\n",
    "    \n",
    "    for id, byte in enumerate(data_block):\n",
    "        input = bin(byte)\n",
    "        input = input[2:]\n",
    "        input = input[::-1]\n",
    "        for _ in range(8):\n",
    "            result.append(0.0)\n",
    "\n",
    "        for i, bit in enumerate(input):\n",
    "            result[id * 8 + i] = float(bit)\n",
    "            \n",
    "    return result\n",
    "print(bytes_to_float_array({uint8(6)}))\n",
    "\n",
    "@dataclass\n",
    "class CryptoDataset:\n",
    "\n",
    "    no_bytes: int # no of bytes in ciphered message\n",
    "    batch_size: int\n",
    "    n :int\n",
    "    \n",
    "    @staticmethod\n",
    "    def from_config():        \n",
    "        return CryptoDataset(no_bytes=config[\"num_inputs\"]//8,batch_size = config[\"batch_size\"])\n",
    "        \n",
    "    def __init__(self,  no_bytes:int, batch_size:int):\n",
    "        self.no_bytes = no_bytes\n",
    "        self.batch_size = batch_size\n",
    "        self.n = 0\n",
    "    \n",
    "    def next_sub_byte(self):\n",
    "        \n",
    "        label : List[uint8] = []\n",
    "        for _ in range(self.no_bytes) :\n",
    "            label.append(uint8(random.randint(0,255)))\n",
    "        \n",
    "        input : List[uint8] = mix_columns(label) \n",
    "        return (torch.FloatTensor(bytes_to_float_array(input)),torch.FloatTensor(bytes_to_float_array(label)))\n",
    "    \n",
    "    def __iter__(self):\n",
    "        self.n = 0\n",
    "        return self\n",
    "\n",
    "    def __next__(self):\n",
    "        if self.n < self.batch_size:\n",
    "            self.n += 1\n",
    "            return self.next_sub_byte()\n",
    "        else:\n",
    "            raise StopIteration\n",
    "    \n",
    "    "
   ]
  },
  {
   "cell_type": "code",
   "execution_count": 4,
   "id": "2a0ac995",
   "metadata": {},
   "outputs": [],
   "source": [
    "\n",
    "class Model(nn.Module):\n",
    "    def __init__(self):\n",
    "        super().__init__();\n",
    "        # Initialize layers\n",
    "        self.fc0 = nn.Linear(config[\"num_inputs\"], config[\"num_spiking1\"])\n",
    "        self.fc1 = nn.Linear(config[\"num_spiking1\"], config[\"num_spiking2\"])\n",
    "        self.lif1 = snn.Leaky(beta=config[\"beta\"])\n",
    "        self.fc2 = nn.Linear(config[\"num_spiking2\"], config[\"num_hidden_out\"])\n",
    "        self.lif2 = snn.Leaky(beta=config[\"beta\"])\n",
    "        \n",
    "        self.fc3 = nn.Linear(config[\"num_hidden_out\"], config[\"num_hidden_out\"])\n",
    "        self.drop = nn.Dropout(p=0.1, inplace=False)\n",
    "        self.fc4 = nn.Linear(config[\"num_hidden_out\"], config[\"num_outputs\"])\n",
    "\n",
    "        self.sigmoid = nn.Sigmoid()\n",
    "        self.relu = nn.ReLU()\n",
    "\n",
    "    def forward(self, x):\n",
    "        # Initialize hidden state for each pass\n",
    "        memory1 = self.lif1.init_leaky()\n",
    "        memory2 = self.lif2.init_leaky()\n",
    "        \n",
    "        result_spikes = []\n",
    "        result_membrain = []\n",
    "        y = self.fc0(x)\n",
    "        \n",
    "        x = spikegen.rate(x, num_steps=config[\"num_steps\"])\n",
    "        \n",
    "        spike_sum = torch.zeros(config[\"num_hidden_out\"])\n",
    "        for step in range(config[\"num_steps\"]):\n",
    "            cur1 = self.fc1(y)\n",
    "            spikes1, memory1 = self.lif1(cur1, memory1)\n",
    "            cur2 = self.fc2(spikes1)\n",
    "            spikes2, memory2 = self.lif2(cur2, memory2)\n",
    "            spike_sum += memory2\n",
    "        \n",
    "        spike_sum = self.sigmoid(spike_sum)\n",
    "        out = self.fc3(spike_sum)\n",
    "        out = self.relu(out)\n",
    "        out = self.drop(out)\n",
    "        out = self.fc4(out)\n",
    "        out = self.relu(out)\n",
    "        \n",
    "        # Maybe another dense layer\n",
    "        \n",
    "        return self.sigmoid(out)\n"
   ]
  },
  {
   "cell_type": "code",
   "execution_count": null,
   "id": "a82bea26",
   "metadata": {},
   "outputs": [],
   "source": []
  },
  {
   "cell_type": "code",
   "execution_count": 5,
   "id": "8ecb6c5d",
   "metadata": {},
   "outputs": [],
   "source": [
    "net = Model()"
   ]
  },
  {
   "cell_type": "code",
   "execution_count": 6,
   "id": "e3b44552",
   "metadata": {},
   "outputs": [
    {
     "data": {
      "text/plain": [
       "CryptoDataset(no_bytes=16, batch_size=10000, n=0)"
      ]
     },
     "execution_count": 6,
     "metadata": {},
     "output_type": "execute_result"
    }
   ],
   "source": [
    "from torch.utils.data import DataLoader\n",
    "train_loader = CryptoDataset.from_config()\n",
    "train_loader"
   ]
  },
  {
   "cell_type": "code",
   "execution_count": 7,
   "id": "507b5638",
   "metadata": {},
   "outputs": [
    {
     "data": {
      "text/plain": [
       "torch.Size([128, 128])"
      ]
     },
     "execution_count": 7,
     "metadata": {},
     "output_type": "execute_result"
    }
   ],
   "source": [
    "import snntorch.spikeplot as splt\n",
    "\n",
    "# Iterate through minibatches\n",
    "data = iter(train_loader)\n",
    "data_it, targets_it = next(data)\n",
    "\n",
    "# Spiking Data\n",
    "spike_data =spikegen.rate(data_it, num_steps=config[\"num_steps\"])\n",
    "spike_data.size()"
   ]
  },
  {
   "cell_type": "code",
   "execution_count": 8,
   "id": "b464d522",
   "metadata": {},
   "outputs": [
    {
     "data": {
      "text/plain": [
       "<matplotlib.collections.PathCollection at 0x12fe53910>"
      ]
     },
     "execution_count": 8,
     "metadata": {},
     "output_type": "execute_result"
    },
    {
     "data": {
      "image/png": "[encoded data removed]",
      "text/plain": [
       "<Figure size 720x360 with 1 Axes>"
      ]
     },
     "metadata": {},
     "output_type": "display_data"
    }
   ],
   "source": [
    "spike_data = spike_data[:]\n",
    "spike_data_sample_plot = spike_data.reshape((config[\"num_steps\"], -1))\n",
    "fig = plt.figure(facecolor=\"w\", figsize=(10, 5))\n",
    "ax = fig.add_subplot(111)\n",
    "splt.raster(spike_data_sample_plot, ax, s=1.5)"
   ]
  },
  {
   "cell_type": "code",
   "execution_count": 9,
   "id": "73b9a808",
   "metadata": {},
   "outputs": [],
   "source": [
    "loss_func = nn.L1Loss() # Idk\n",
    "optimizer = torch.optim.Adam(net.parameters(), lr=0.0005)\n",
    "loss_hist = []"
   ]
  },
  {
   "cell_type": "code",
   "execution_count": 10,
   "id": "46ff1c30",
   "metadata": {},
   "outputs": [
    {
     "name": "stderr",
     "output_type": "stream",
     "text": [
      "Epoch 0: 100%|██████████| 10000/10000 [03:36<00:00, 46.12it/s]\n"
     ]
    }
   ],
   "source": [
    "from tqdm import tqdm\n",
    "for epoch in range(config[\"no_epochs\"]):\n",
    "    for batch_idx, (x, y) in tqdm(enumerate(train_loader), total=config[\"batch_size\"], desc=f\"Epoch {epoch}\"):\n",
    "        net.train()\n",
    "        \n",
    "        # forward\n",
    "        output = net(x)\n",
    "        loss = loss_func(output, y)\n",
    "        \n",
    "        # Gradient calculation + weight update\n",
    "        optimizer.zero_grad()\n",
    "        loss.backward()\n",
    "        optimizer.step()\n",
    "        \n",
    "        # Store loss history for future plotting\n",
    "        loss_hist.append(loss.item())"
   ]
  },
  {
   "cell_type": "code",
   "execution_count": 11,
   "id": "55df64e3",
   "metadata": {},
   "outputs": [
    {
     "data": {
      "text/plain": [
       "[<matplotlib.lines.Line2D at 0x14ad1cdc0>]"
      ]
     },
     "execution_count": 11,
     "metadata": {},
     "output_type": "execute_result"
    },
    {
     "data": {
      "image/png": "[encoded data removed]",
      "text/plain": [
       "<Figure size 432x288 with 1 Axes>"
      ]
     },
     "metadata": {
      "needs_background": "light"
     },
     "output_type": "display_data"
    }
   ],
   "source": [
    "# plt.yscale(\"log\")\n",
    "plt.plot(loss_hist)"
   ]
  },
  {
   "cell_type": "code",
   "execution_count": 12,
   "metadata": {},
   "outputs": [
    {
     "data": {
      "text/plain": [
       "(array([  2.,   0.,   0.,   4.,   1.,   1.,   6.,   1.,   2.,   3.,   2.,\n",
       "          1.,  14.,  11.,   2.,  10.,  11.,   9.,   6.,  52.,   3.,  10.,\n",
       "         35.,   9.,  12.,  91.,  24.,  19.,  41.,  51.,  35.,  50., 136.,\n",
       "         40.,  41.,  87.,  58.,  52., 304.,  94.,  44., 129.,  76.,  77.,\n",
       "        282., 234.,  78., 106., 187.,  76., 107., 537., 130.,  76., 251.,\n",
       "        127., 105., 522., 227., 113., 213., 205., 124., 176., 561., 110.,\n",
       "        120., 247., 117., 118., 507., 125.,  97., 178., 100.,  75., 147.,\n",
       "        341.,  57.,  97., 138.,  47.,  66., 283.,  47.,  48.,  95.,  37.,\n",
       "         36., 122.,  70.,  22.,  43.,  44.,  25.,  28.,  90.,  11.,  19.,\n",
       "         23.,   9.,   7.,  49.,   9.,   8.,  11.,  12.,   3.,   6.,  30.,\n",
       "          3.,   4.,   3.,   1.,   1.,  13.,   0.,   0.,   2.,   1.,   0.,\n",
       "          2.,   1.,   0.,   0.,   1.,   0.,   1.]),\n",
       " array([0.42608005, 0.4272911 , 0.42850215, 0.4297132 , 0.43092426,\n",
       "        0.43213531, 0.43334636, 0.43455741, 0.43576847, 0.43697952,\n",
       "        0.43819057, 0.43940162, 0.44061268, 0.44182373, 0.44303478,\n",
       "        0.44424583, 0.44545688, 0.44666794, 0.44787899, 0.44909004,\n",
       "        0.45030109, 0.45151215, 0.4527232 , 0.45393425, 0.4551453 ,\n",
       "        0.45635636, 0.45756741, 0.45877846, 0.45998951, 0.46120056,\n",
       "        0.46241162, 0.46362267, 0.46483372, 0.46604477, 0.46725583,\n",
       "        0.46846688, 0.46967793, 0.47088898, 0.47210004, 0.47331109,\n",
       "        0.47452214, 0.47573319, 0.47694424, 0.4781553 , 0.47936635,\n",
       "        0.4805774 , 0.48178845, 0.48299951, 0.48421056, 0.48542161,\n",
       "        0.48663266, 0.48784372, 0.48905477, 0.49026582, 0.49147687,\n",
       "        0.49268792, 0.49389898, 0.49511003, 0.49632108, 0.49753213,\n",
       "        0.49874319, 0.49995424, 0.50116529, 0.50237634, 0.50358739,\n",
       "        0.50479845, 0.5060095 , 0.50722055, 0.5084316 , 0.50964266,\n",
       "        0.51085371, 0.51206476, 0.51327581, 0.51448687, 0.51569792,\n",
       "        0.51690897, 0.51812002, 0.51933107, 0.52054213, 0.52175318,\n",
       "        0.52296423, 0.52417528, 0.52538634, 0.52659739, 0.52780844,\n",
       "        0.52901949, 0.53023055, 0.5314416 , 0.53265265, 0.5338637 ,\n",
       "        0.53507475, 0.53628581, 0.53749686, 0.53870791, 0.53991896,\n",
       "        0.54113002, 0.54234107, 0.54355212, 0.54476317, 0.54597423,\n",
       "        0.54718528, 0.54839633, 0.54960738, 0.55081843, 0.55202949,\n",
       "        0.55324054, 0.55445159, 0.55566264, 0.5568737 , 0.55808475,\n",
       "        0.5592958 , 0.56050685, 0.56171791, 0.56292896, 0.56414001,\n",
       "        0.56535106, 0.56656211, 0.56777317, 0.56898422, 0.57019527,\n",
       "        0.57140632, 0.57261738, 0.57382843, 0.57503948, 0.57625053,\n",
       "        0.57746158, 0.57867264, 0.57988369, 0.58109474]),\n",
       " <BarContainer object of 128 artists>)"
      ]
     },
     "execution_count": 12,
     "metadata": {},
     "output_type": "execute_result"
    },
    {
     "data": {
      "image/png": "[encoded data removed]",
      "text/plain": [
       "<Figure size 432x288 with 1 Axes>"
      ]
     },
     "metadata": {
      "needs_background": "light"
     },
     "output_type": "display_data"
    }
   ],
   "source": [
    "plt.hist(loss_hist,bins=128)"
   ]
  },
  {
   "cell_type": "code",
   "execution_count": 13,
   "id": "8460b618",
   "metadata": {},
   "outputs": [],
   "source": [
    "import numpy as np\n",
    "\n",
    "def count_bad(input: torch.Tensor, output: torch.Tensor):\n",
    "    assert len(input) == len(output)\n",
    "\n",
    "    input = input.detach().numpy()\n",
    "    output = output.detach().numpy()\n",
    "    input, output = np.around(input, 0) , np.around(output, 0)\n",
    "    diff = np.abs(input - output)\n",
    "    return sum(diff)\n",
    "\n",
    "\n",
    "a = torch.tensor([0.23, .33, .66])\n",
    "b = torch.tensor([0.33, .46, .70])\n",
    "c = torch.tensor([.55, .12, .1])\n",
    "assert count_bad(a,b) == 0\n",
    "assert count_bad(a,c) == 2"
   ]
  },
  {
   "cell_type": "code",
   "execution_count": 14,
   "id": "98b52489",
   "metadata": {},
   "outputs": [
    {
     "data": {
      "text/plain": [
       "64.169"
      ]
     },
     "execution_count": 14,
     "metadata": {},
     "output_type": "execute_result"
    }
   ],
   "source": [
    "global_loss = .0\n",
    "samples = 1000\n",
    "net.eval()\n",
    "with torch.no_grad():\n",
    "    for index in range(samples):\n",
    "        inputs, labels = train_loader.next_sub_byte()\n",
    "        outputs = net(inputs)\n",
    "        global_loss += count_bad(inputs, outputs) / config[\"num_outputs\"]\n",
    "\n",
    "config[\"num_outputs\"] * global_loss / samples"
   ]
  },
  {
   "cell_type": "code",
   "execution_count": 15,
   "id": "aa35036d",
   "metadata": {},
   "outputs": [],
   "source": [
    "import math\n",
    "\n",
    "def binomial(k, n, p=0.5):\n",
    "    \"\"\"Binomial distribution with \n",
    "\n",
    "    Args:\n",
    "        k (int): Number of successes\n",
    "        n (int): Number of trials\n",
    "        p (float, optional Probability of success. Defaults to 0.5.\n",
    "\n",
    "    Returns:\n",
    "        (float): Probability of exactly k successes\n",
    "    \"\"\"\n",
    "    return (math.comb(n,k) * (p**k) * ((1-p)**(n-k)))"
   ]
  },
  {
   "cell_type": "code",
   "execution_count": 16,
   "id": "e81c2dab",
   "metadata": {},
   "outputs": [
    {
     "data": {
      "text/plain": [
       "<matplotlib.collections.PathCollection at 0x14af912a0>"
      ]
     },
     "execution_count": 16,
     "metadata": {},
     "output_type": "execute_result"
    },
    {
     "data": {
      "image/png": "[encoded data removed]",
      "text/plain": [
       "<Figure size 432x288 with 1 Axes>"
      ]
     },
     "metadata": {
      "needs_background": "light"
     },
     "output_type": "display_data"
    }
   ],
   "source": [
    "ok = int(config[\"num_outputs\"] * global_loss / samples)\n",
    "plt.bar(list(range(config[\"num_outputs\"])), [binomial(i, config[\"num_outputs\"]) for i in range(config[\"num_outputs\"])])\n",
    "plt.scatter([ok],binomial(int(ok), config[\"num_outputs\"]))"
   ]
  },
  {
   "cell_type": "code",
   "execution_count": null,
   "id": "e8e4979f",
   "metadata": {},
   "outputs": [],
   "source": []
  }
 ],
 "metadata": {
  "kernelspec": {
   "display_name": "Python 3.10.4 ('nn-crypto')",
   "language": "python",
   "name": "python3"
  },
  "language_info": {
   "codemirror_mode": {
    "name": "ipython",
    "version": 3
   },
   "file_extension": ".py",
   "mimetype": "text/x-python",
   "name": "python",
   "nbconvert_exporter": "python",
   "pygments_lexer": "ipython3",
   "version": "3.10.4"
  },
  "vscode": {
   "interpreter": {
    "hash": "e027b21d8c91cb15f29de7082344af1ba339ca876801dd9d70d2e1b0b84984aa"
   }
  }
 },
 "nbformat": 4,
 "nbformat_minor": 5
}
